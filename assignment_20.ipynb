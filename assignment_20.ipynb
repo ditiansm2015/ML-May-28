{
  "nbformat": 4,
  "nbformat_minor": 0,
  "metadata": {
    "colab": {
      "name": "assignment_20.ipynb",
      "version": "0.3.2",
      "provenance": [],
      "include_colab_link": true
    },
    "kernelspec": {
      "name": "python3",
      "display_name": "Python 3"
    }
  },
  "cells": [
    {
      "cell_type": "markdown",
      "metadata": {
        "id": "view-in-github",
        "colab_type": "text"
      },
      "source": [
        "[View in Colaboratory](https://colab.research.google.com/github/ditiansm2015/ML-May-28/blob/master/assignment_20.ipynb)"
      ]
    },
    {
      "metadata": {
        "id": "wHv2xtOL2vGl",
        "colab_type": "text"
      },
      "cell_type": "markdown",
      "source": [
        "# QUESTION 1\n",
        "\n",
        "###F=(a*b)+(a*c)-(b+c)\n",
        "###a(b+c)-(b+c)\n",
        "###(b+c)(a-1)"
      ]
    },
    {
      "metadata": {
        "id": "vUVkSRh23EGx",
        "colab_type": "text"
      },
      "cell_type": "markdown",
      "source": [
        "# QUESTION 2"
      ]
    },
    {
      "metadata": {
        "id": "EZVEiLX85z3G",
        "colab_type": "text"
      },
      "cell_type": "markdown",
      "source": [
        "## Weights are:"
      ]
    },
    {
      "metadata": {
        "id": "rslsXJQH5vVZ",
        "colab_type": "code",
        "colab": {}
      },
      "cell_type": "code",
      "source": [
        "w1=2.7\n",
        "w2=-8.6\n",
        "w3=0.002"
      ],
      "execution_count": 0,
      "outputs": []
    },
    {
      "metadata": {
        "id": "a5XV4yF_55GJ",
        "colab_type": "text"
      },
      "cell_type": "markdown",
      "source": [
        "## Node values are:"
      ]
    },
    {
      "metadata": {
        "id": "JZ0E1Ov9582h",
        "colab_type": "code",
        "colab": {}
      },
      "cell_type": "code",
      "source": [
        "a1=-0.06\n",
        "a2=-2.5\n",
        "a3=1.4"
      ],
      "execution_count": 0,
      "outputs": []
    },
    {
      "metadata": {
        "id": "PfJAc0RW6rjN",
        "colab_type": "code",
        "colab": {}
      },
      "cell_type": "code",
      "source": [
        "import math"
      ],
      "execution_count": 0,
      "outputs": []
    },
    {
      "metadata": {
        "id": "p2I7tbF_6IgW",
        "colab_type": "text"
      },
      "cell_type": "markdown",
      "source": [
        "### value of x without bias term"
      ]
    },
    {
      "metadata": {
        "id": "qtNqNFzr6APg",
        "colab_type": "code",
        "colab": {
          "base_uri": "https://localhost:8080/",
          "height": 34
        },
        "outputId": "745c2a59-9c12-4483-cde9-962295a37574"
      },
      "cell_type": "code",
      "source": [
        "x=w1*a1+w2*a2+w3*a3\n",
        "print(\"Value of X is \",x)"
      ],
      "execution_count": 43,
      "outputs": [
        {
          "output_type": "stream",
          "text": [
            "Value of X is  21.3408\n"
          ],
          "name": "stdout"
        }
      ]
    },
    {
      "metadata": {
        "id": "Y08ZiMbI4fCc",
        "colab_type": "code",
        "colab": {}
      },
      "cell_type": "code",
      "source": [
        "minus_e=math.exp(-x)"
      ],
      "execution_count": 0,
      "outputs": []
    },
    {
      "metadata": {
        "id": "jW7KhaW04uXk",
        "colab_type": "code",
        "colab": {
          "base_uri": "https://localhost:8080/",
          "height": 34
        },
        "outputId": "23267af0-b15f-49af-f91f-1291c1ab2b56"
      },
      "cell_type": "code",
      "source": [
        "f=1/(1+minus_e)\n",
        "print(\"Output without bias term is\",f)"
      ],
      "execution_count": 45,
      "outputs": [
        {
          "output_type": "stream",
          "text": [
            "Output without bias term is 0.9999999994607274\n"
          ],
          "name": "stdout"
        }
      ]
    },
    {
      "metadata": {
        "id": "oR2veSEt6vpS",
        "colab_type": "text"
      },
      "cell_type": "markdown",
      "source": [
        "### value of x with bias term"
      ]
    },
    {
      "metadata": {
        "id": "SPBOeFT_6xl_",
        "colab_type": "code",
        "colab": {
          "base_uri": "https://localhost:8080/",
          "height": 34
        },
        "outputId": "230f48d5-9741-4763-c812-f95855b957b7"
      },
      "cell_type": "code",
      "source": [
        "# bias=1.1\n",
        "x_bias=w1*a1+w2*a2+w3*a3+1*(-1.1)\n",
        "print(\"Value of X is \",x_bias)"
      ],
      "execution_count": 46,
      "outputs": [
        {
          "output_type": "stream",
          "text": [
            "Value of X is  20.2408\n"
          ],
          "name": "stdout"
        }
      ]
    },
    {
      "metadata": {
        "id": "Q-ApheNl7Kl7",
        "colab_type": "code",
        "colab": {}
      },
      "cell_type": "code",
      "source": [
        "minus_e_bias=math.exp(-x_bias)"
      ],
      "execution_count": 0,
      "outputs": []
    },
    {
      "metadata": {
        "id": "X-8kz3Wc7MfO",
        "colab_type": "code",
        "colab": {
          "base_uri": "https://localhost:8080/",
          "height": 34
        },
        "outputId": "c3a9a6fd-c3e4-4275-f622-b0f3bcc7ff36"
      },
      "cell_type": "code",
      "source": [
        "f_bias=1/(1+minus_e_bias)\n",
        "print(\"Output with bias term is\",f_bias)"
      ],
      "execution_count": 48,
      "outputs": [
        {
          "output_type": "stream",
          "text": [
            "Output with bias term is 0.9999999983799357\n"
          ],
          "name": "stdout"
        }
      ]
    },
    {
      "metadata": {
        "id": "ucyP-LUZ79o-",
        "colab_type": "text"
      },
      "cell_type": "markdown",
      "source": [
        "## minor change in output(which is negligible) can be observed when bias term is added to the inputs"
      ]
    },
    {
      "metadata": {
        "id": "IkE0fLV48OJz",
        "colab_type": "text"
      },
      "cell_type": "markdown",
      "source": [
        "Bias term is always ON i.e. always set to 1.\n",
        "It is like y intercept in linear regression which helps in moving the sigmoid function to left or right side of the graph as per the requirement of Best fit line "
      ]
    }
  ]
}