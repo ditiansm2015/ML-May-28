{
  "nbformat": 4,
  "nbformat_minor": 0,
  "metadata": {
    "colab": {
      "name": "Untitled0.ipynb",
      "version": "0.3.2",
      "provenance": [],
      "collapsed_sections": []
    },
    "kernelspec": {
      "name": "python3",
      "display_name": "Python 3"
    }
  },
  "cells": [
    {
      "cell_type": "markdown",
      "metadata": {
        "id": "view-in-github",
        "colab_type": "text"
      },
      "source": [
        "[View in Colaboratory](https://colab.research.google.com/github/ditiansm2015/ML-May-28/blob/master/assignment_1.ipynb)"
      ]
    },
    {
      "metadata": {
        "id": "SbE-0bq6-NRL",
        "colab_type": "text"
      },
      "cell_type": "markdown",
      "source": [
        "SUDHANSHU MISHRA \n",
        "\n",
        "Machine Learning with Python (SUM18 ML ON1)\n",
        "\n",
        "ASSIGNMENT_1"
      ]
    },
    {
      "metadata": {
        "id": "md7P7ru87DLY",
        "colab_type": "code",
        "colab": {
          "base_uri": "https://localhost:8080/",
          "height": 34
        },
        "outputId": "6a78b842-95e5-43ff-e5e8-9ff0d9e462d1"
      },
      "cell_type": "code",
      "source": [
        "#Question 2\n",
        "\n",
        "x = [1, 2, 3, 4, 5, 6, 7, 8, 9, 10, 11, 12, 13, 14, 15, 16]\n",
        "#list_name[start:stop:skipsteps]\n",
        "print(x[1:16:2])"
      ],
      "execution_count": 35,
      "outputs": [
        {
          "output_type": "stream",
          "text": [
            "[2, 4, 6, 8, 10, 12, 14, 16]\n"
          ],
          "name": "stdout"
        }
      ]
    },
    {
      "metadata": {
        "id": "OLAfzZihAQJ6",
        "colab_type": "code",
        "colab": {}
      },
      "cell_type": "code",
      "source": [
        ""
      ],
      "execution_count": 0,
      "outputs": []
    },
    {
      "metadata": {
        "id": "_Gqim6_H8k8T",
        "colab_type": "code",
        "colab": {
          "base_uri": "https://localhost:8080/",
          "height": 34
        },
        "outputId": "03c5ef39-a55c-4cb8-ac0e-893110357e11"
      },
      "cell_type": "code",
      "source": [
        "#Question 3\n",
        "\n",
        "x = [1, 2, 3, 4, 5, 6, 7, 8, 9, 10, 11, 12, 13, 14, 15, 16]\n",
        "#list_name[start:stop:skipsteps]\n",
        "#if start=null it means from the beginning of the list \n",
        "#if stop=null it means till end\n",
        "print(x[::4])"
      ],
      "execution_count": 34,
      "outputs": [
        {
          "output_type": "stream",
          "text": [
            "[1, 5, 9, 13]\n"
          ],
          "name": "stdout"
        }
      ]
    }
  ]
}