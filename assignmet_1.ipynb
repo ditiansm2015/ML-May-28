{
  "nbformat": 4,
  "nbformat_minor": 0,
  "metadata": {
    "colab": {
      "name": "Untitled0.ipynb",
      "version": "0.3.2",
      "provenance": [],
      "collapsed_sections": []
    },
    "kernelspec": {
      "name": "python3",
      "display_name": "Python 3"
    }
  },
  "cells": [
    {
      "cell_type": "markdown",
      "metadata": {
        "id": "view-in-github",
        "colab_type": "text"
      },
      "source": [
        "[View in Colaboratory](https://colab.research.google.com/github/ditiansm2015/ML-May-28/blob/master/assignmet_1.ipynb)"
      ]
    },
    {
      "metadata": {
        "id": "SbE-0bq6-NRL",
        "colab_type": "text"
      },
      "cell_type": "markdown",
      "source": [
        "SUDHANSHU MISHRA \n",
        "\n",
        "Machine Learning with Python (SUM18 ML ON1)\n",
        "\n",
        "ASSIGNMENT_1"
      ]
    },
    {
      "metadata": {
        "id": "OLAfzZihAQJ6",
        "colab_type": "code",
        "colab": {
          "base_uri": "https://localhost:8080/",
          "height": 51
        },
        "outputId": "8ee7332a-b8c5-4bb0-9d90-4cd83038e470"
      },
      "cell_type": "code",
      "source": [
        "#Question 1\n",
        "\n",
        "x = [1, 2, 3, 4, 5, 6, 7, 8, 9, 10, 11, 12, 13, 14, 15, 16]\n",
        "#slicing from front\n",
        "print(x[7:12])\n",
        "#slicing from back\n",
        "print(x[-9:-4])"
      ],
      "execution_count": 41,
      "outputs": [
        {
          "output_type": "stream",
          "text": [
            "[8, 9, 10, 11, 12]\n",
            "[8, 9, 10, 11, 12]\n"
          ],
          "name": "stdout"
        }
      ]
    },
    {
      "metadata": {
        "id": "md7P7ru87DLY",
        "colab_type": "code",
        "colab": {
          "base_uri": "https://localhost:8080/",
          "height": 34
        },
        "outputId": "fadb9a13-7a23-4a16-95b0-e24cebefc215"
      },
      "cell_type": "code",
      "source": [
        "#Question 2\n",
        "\n",
        "x = [1, 2, 3, 4, 5, 6, 7, 8, 9, 10, 11, 12, 13, 14, 15, 16]\n",
        "#list_name[start:stop:skipsteps]\n",
        "print(x[1:16:2])"
      ],
      "execution_count": 42,
      "outputs": [
        {
          "output_type": "stream",
          "text": [
            "[2, 4, 6, 8, 10, 12, 14, 16]\n"
          ],
          "name": "stdout"
        }
      ]
    },
    {
      "metadata": {
        "id": "_Gqim6_H8k8T",
        "colab_type": "code",
        "colab": {
          "base_uri": "https://localhost:8080/",
          "height": 34
        },
        "outputId": "f1fc333e-bdd8-4dde-e7ed-cc8bec771a88"
      },
      "cell_type": "code",
      "source": [
        "#Question 3\n",
        "\n",
        "x = [1, 2, 3, 4, 5, 6, 7, 8, 9, 10, 11, 12, 13, 14, 15, 16]\n",
        "#list_name[start:stop:skipsteps]\n",
        "#if start=null it means from the beginning of the list \n",
        "#if stop=null it means till end\n",
        "print(x[::4])"
      ],
      "execution_count": 43,
      "outputs": [
        {
          "output_type": "stream",
          "text": [
            "[1, 5, 9, 13]\n"
          ],
          "name": "stdout"
        }
      ]
    }
  ]
}