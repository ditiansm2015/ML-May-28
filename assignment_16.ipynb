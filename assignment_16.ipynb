{
  "nbformat": 4,
  "nbformat_minor": 0,
  "metadata": {
    "colab": {
      "name": "assignment_16.ipynb",
      "version": "0.3.2",
      "provenance": [],
      "include_colab_link": true
    },
    "kernelspec": {
      "name": "python3",
      "display_name": "Python 3"
    }
  },
  "cells": [
    {
      "cell_type": "markdown",
      "metadata": {
        "id": "view-in-github",
        "colab_type": "text"
      },
      "source": [
        "[View in Colaboratory](https://colab.research.google.com/github/ditiansm2015/ML-May-28/blob/master/assignment_16.ipynb)"
      ]
    },
    {
      "metadata": {
        "id": "aUNt3KEBP9Mm",
        "colab_type": "code",
        "colab": {}
      },
      "cell_type": "code",
      "source": [
        "# Importing libraries\n",
        "import pandas as pd\n",
        "import sklearn.metrics as mt"
      ],
      "execution_count": 0,
      "outputs": []
    },
    {
      "metadata": {
        "id": "nf8Zx0CIdO2r",
        "colab_type": "code",
        "colab": {
          "base_uri": "https://localhost:8080/",
          "height": 204
        },
        "outputId": "a9ebea37-e3e5-4270-f80a-59d1504f00d3"
      },
      "cell_type": "code",
      "source": [
        "# Reading dataset\n",
        "df= pd.read_csv('https://archive.ics.uci.edu/ml/machine-learning-databases/balance-scale/balance-scale.data')\n",
        "df.head()"
      ],
      "execution_count": 121,
      "outputs": [
        {
          "output_type": "execute_result",
          "data": {
            "text/html": [
              "<div>\n",
              "<style scoped>\n",
              "    .dataframe tbody tr th:only-of-type {\n",
              "        vertical-align: middle;\n",
              "    }\n",
              "\n",
              "    .dataframe tbody tr th {\n",
              "        vertical-align: top;\n",
              "    }\n",
              "\n",
              "    .dataframe thead th {\n",
              "        text-align: right;\n",
              "    }\n",
              "</style>\n",
              "<table border=\"1\" class=\"dataframe\">\n",
              "  <thead>\n",
              "    <tr style=\"text-align: right;\">\n",
              "      <th></th>\n",
              "      <th>B</th>\n",
              "      <th>1</th>\n",
              "      <th>1.1</th>\n",
              "      <th>1.2</th>\n",
              "      <th>1.3</th>\n",
              "    </tr>\n",
              "  </thead>\n",
              "  <tbody>\n",
              "    <tr>\n",
              "      <th>0</th>\n",
              "      <td>R</td>\n",
              "      <td>1</td>\n",
              "      <td>1</td>\n",
              "      <td>1</td>\n",
              "      <td>2</td>\n",
              "    </tr>\n",
              "    <tr>\n",
              "      <th>1</th>\n",
              "      <td>R</td>\n",
              "      <td>1</td>\n",
              "      <td>1</td>\n",
              "      <td>1</td>\n",
              "      <td>3</td>\n",
              "    </tr>\n",
              "    <tr>\n",
              "      <th>2</th>\n",
              "      <td>R</td>\n",
              "      <td>1</td>\n",
              "      <td>1</td>\n",
              "      <td>1</td>\n",
              "      <td>4</td>\n",
              "    </tr>\n",
              "    <tr>\n",
              "      <th>3</th>\n",
              "      <td>R</td>\n",
              "      <td>1</td>\n",
              "      <td>1</td>\n",
              "      <td>1</td>\n",
              "      <td>5</td>\n",
              "    </tr>\n",
              "    <tr>\n",
              "      <th>4</th>\n",
              "      <td>R</td>\n",
              "      <td>1</td>\n",
              "      <td>1</td>\n",
              "      <td>2</td>\n",
              "      <td>1</td>\n",
              "    </tr>\n",
              "  </tbody>\n",
              "</table>\n",
              "</div>"
            ],
            "text/plain": [
              "   B  1  1.1  1.2  1.3\n",
              "0  R  1    1    1    2\n",
              "1  R  1    1    1    3\n",
              "2  R  1    1    1    4\n",
              "3  R  1    1    1    5\n",
              "4  R  1    1    2    1"
            ]
          },
          "metadata": {
            "tags": []
          },
          "execution_count": 121
        }
      ]
    },
    {
      "metadata": {
        "id": "De4T53nWdQs3",
        "colab_type": "code",
        "colab": {
          "base_uri": "https://localhost:8080/",
          "height": 34
        },
        "outputId": "fe4ed661-ccd3-4d45-9daa-9b2f2d1ebd02"
      },
      "cell_type": "code",
      "source": [
        "df.shape"
      ],
      "execution_count": 122,
      "outputs": [
        {
          "output_type": "execute_result",
          "data": {
            "text/plain": [
              "(624, 5)"
            ]
          },
          "metadata": {
            "tags": []
          },
          "execution_count": 122
        }
      ]
    },
    {
      "metadata": {
        "id": "mSSplvZMdYpw",
        "colab_type": "code",
        "colab": {}
      },
      "cell_type": "code",
      "source": [
        "# Breaking datapoints into features and labels\n",
        "X = df.drop('B',axis=1)\n",
        "y = df['B'] "
      ],
      "execution_count": 0,
      "outputs": []
    },
    {
      "metadata": {
        "id": "XjD3BYtpdyu1",
        "colab_type": "code",
        "colab": {}
      },
      "cell_type": "code",
      "source": [
        "from sklearn.cross_validation import train_test_split"
      ],
      "execution_count": 0,
      "outputs": []
    },
    {
      "metadata": {
        "id": "aOsqZ7wnd4ha",
        "colab_type": "code",
        "colab": {}
      },
      "cell_type": "code",
      "source": [
        "# Splitting dataset into test set and train set\n",
        "x_train , x_test , y_train , y_test = train_test_split(X, y , test_size = 0.30,random_state =405)"
      ],
      "execution_count": 0,
      "outputs": []
    },
    {
      "metadata": {
        "id": "-5nKUWdcg87W",
        "colab_type": "text"
      },
      "cell_type": "markdown",
      "source": [
        "# Performing DecisionTree with criterion\n",
        "## 1. gini\n",
        "## 2. entropy"
      ]
    },
    {
      "metadata": {
        "id": "JBTco_Zhd5Jz",
        "colab_type": "code",
        "colab": {}
      },
      "cell_type": "code",
      "source": [
        "from sklearn.tree import DecisionTreeClassifier"
      ],
      "execution_count": 0,
      "outputs": []
    },
    {
      "metadata": {
        "id": "_OQY3LkahMt9",
        "colab_type": "text"
      },
      "cell_type": "markdown",
      "source": [
        "## gini"
      ]
    },
    {
      "metadata": {
        "id": "jX5lSnfDeAQW",
        "colab_type": "code",
        "colab": {
          "base_uri": "https://localhost:8080/",
          "height": 119
        },
        "outputId": "c74fbece-f125-44a7-921e-87290ae6f233"
      },
      "cell_type": "code",
      "source": [
        "d_tree_gini = DecisionTreeClassifier(criterion='gini')\n",
        "d_tree_gini.fit(x_train,y_train)"
      ],
      "execution_count": 127,
      "outputs": [
        {
          "output_type": "execute_result",
          "data": {
            "text/plain": [
              "DecisionTreeClassifier(class_weight=None, criterion='gini', max_depth=None,\n",
              "            max_features=None, max_leaf_nodes=None,\n",
              "            min_impurity_decrease=0.0, min_impurity_split=None,\n",
              "            min_samples_leaf=1, min_samples_split=2,\n",
              "            min_weight_fraction_leaf=0.0, presort=False, random_state=None,\n",
              "            splitter='best')"
            ]
          },
          "metadata": {
            "tags": []
          },
          "execution_count": 127
        }
      ]
    },
    {
      "metadata": {
        "id": "EaCqzGRWh1HV",
        "colab_type": "text"
      },
      "cell_type": "markdown",
      "source": [
        "### gini accuracy_score"
      ]
    },
    {
      "metadata": {
        "id": "6mDmx90Jjrik",
        "colab_type": "code",
        "colab": {
          "base_uri": "https://localhost:8080/",
          "height": 204
        },
        "outputId": "a2db56d6-2cfa-4eae-95c3-019739c12e78"
      },
      "cell_type": "code",
      "source": [
        "predict_op1=d_tree_gini.predict(x_test)\n",
        "print(predict_op1)"
      ],
      "execution_count": 128,
      "outputs": [
        {
          "output_type": "stream",
          "text": [
            "['L' 'L' 'R' 'B' 'L' 'R' 'L' 'R' 'R' 'R' 'R' 'L' 'L' 'L' 'L' 'R' 'R' 'L'\n",
            " 'L' 'L' 'R' 'L' 'L' 'L' 'L' 'L' 'L' 'L' 'L' 'R' 'R' 'R' 'R' 'R' 'L' 'R'\n",
            " 'L' 'B' 'L' 'R' 'R' 'B' 'R' 'L' 'L' 'R' 'R' 'R' 'R' 'L' 'B' 'R' 'R' 'R'\n",
            " 'R' 'L' 'B' 'R' 'B' 'L' 'L' 'L' 'B' 'R' 'L' 'R' 'L' 'L' 'R' 'R' 'L' 'L'\n",
            " 'R' 'L' 'L' 'L' 'R' 'L' 'R' 'L' 'L' 'L' 'B' 'R' 'R' 'R' 'L' 'L' 'L' 'R'\n",
            " 'R' 'R' 'R' 'R' 'R' 'B' 'R' 'L' 'L' 'L' 'R' 'B' 'R' 'L' 'R' 'R' 'B' 'L'\n",
            " 'L' 'L' 'L' 'R' 'L' 'L' 'L' 'R' 'L' 'L' 'L' 'L' 'R' 'B' 'L' 'L' 'R' 'R'\n",
            " 'R' 'R' 'L' 'B' 'R' 'R' 'R' 'L' 'B' 'L' 'L' 'R' 'B' 'L' 'L' 'R' 'L' 'R'\n",
            " 'R' 'R' 'R' 'B' 'B' 'R' 'R' 'R' 'L' 'R' 'L' 'R' 'L' 'R' 'L' 'R' 'L' 'R'\n",
            " 'L' 'R' 'R' 'L' 'R' 'B' 'R' 'L' 'R' 'R' 'L' 'R' 'L' 'R' 'R' 'R' 'R' 'L'\n",
            " 'R' 'R' 'L' 'L' 'B' 'R' 'R' 'R']\n"
          ],
          "name": "stdout"
        }
      ]
    },
    {
      "metadata": {
        "id": "l-BhOl3cjlp4",
        "colab_type": "code",
        "colab": {
          "base_uri": "https://localhost:8080/",
          "height": 34
        },
        "outputId": "65b43c62-d9c9-4d21-ab26-0994ac3f09a5"
      },
      "cell_type": "code",
      "source": [
        "class_accuracy=mt.accuracy_score(y_test, predict_op1)\n",
        "print(class_accuracy)"
      ],
      "execution_count": 129,
      "outputs": [
        {
          "output_type": "stream",
          "text": [
            "0.7659574468085106\n"
          ],
          "name": "stdout"
        }
      ]
    },
    {
      "metadata": {
        "id": "jz2KySNPhQVS",
        "colab_type": "text"
      },
      "cell_type": "markdown",
      "source": [
        "## entropy"
      ]
    },
    {
      "metadata": {
        "id": "ZoPwb7dkfKU4",
        "colab_type": "code",
        "colab": {
          "base_uri": "https://localhost:8080/",
          "height": 119
        },
        "outputId": "8cedcaf9-dc12-4b77-a17c-40e84fe4cbea"
      },
      "cell_type": "code",
      "source": [
        "d_tree_entropy = DecisionTreeClassifier(criterion='entropy')\n",
        "d_tree_entropy.fit(x_train,y_train)"
      ],
      "execution_count": 130,
      "outputs": [
        {
          "output_type": "execute_result",
          "data": {
            "text/plain": [
              "DecisionTreeClassifier(class_weight=None, criterion='entropy', max_depth=None,\n",
              "            max_features=None, max_leaf_nodes=None,\n",
              "            min_impurity_decrease=0.0, min_impurity_split=None,\n",
              "            min_samples_leaf=1, min_samples_split=2,\n",
              "            min_weight_fraction_leaf=0.0, presort=False, random_state=None,\n",
              "            splitter='best')"
            ]
          },
          "metadata": {
            "tags": []
          },
          "execution_count": 130
        }
      ]
    },
    {
      "metadata": {
        "id": "Q2iFEI-5h6LM",
        "colab_type": "text"
      },
      "cell_type": "markdown",
      "source": [
        "### entropy accuracy_score"
      ]
    },
    {
      "metadata": {
        "id": "JqS6Qsd9fWer",
        "colab_type": "code",
        "colab": {
          "base_uri": "https://localhost:8080/",
          "height": 204
        },
        "outputId": "8c6c51df-d466-4660-e928-7aa3d6bb3ebf"
      },
      "cell_type": "code",
      "source": [
        "predict_op2=d_tree_entropy.predict(x_test)\n",
        "print(predict_op2)"
      ],
      "execution_count": 131,
      "outputs": [
        {
          "output_type": "stream",
          "text": [
            "['L' 'L' 'R' 'B' 'L' 'R' 'L' 'R' 'R' 'R' 'R' 'L' 'L' 'L' 'L' 'R' 'R' 'L'\n",
            " 'L' 'L' 'R' 'L' 'L' 'L' 'L' 'L' 'L' 'L' 'L' 'R' 'R' 'R' 'R' 'R' 'L' 'R'\n",
            " 'L' 'B' 'L' 'R' 'R' 'B' 'R' 'L' 'L' 'R' 'R' 'R' 'R' 'L' 'B' 'R' 'R' 'R'\n",
            " 'R' 'L' 'B' 'R' 'B' 'L' 'L' 'L' 'B' 'R' 'L' 'R' 'L' 'L' 'R' 'R' 'L' 'L'\n",
            " 'R' 'L' 'L' 'L' 'R' 'L' 'R' 'L' 'L' 'L' 'B' 'R' 'R' 'R' 'L' 'L' 'L' 'R'\n",
            " 'R' 'R' 'R' 'R' 'R' 'B' 'R' 'L' 'L' 'L' 'R' 'B' 'R' 'L' 'R' 'R' 'B' 'L'\n",
            " 'L' 'B' 'L' 'R' 'L' 'L' 'L' 'R' 'L' 'L' 'L' 'L' 'R' 'B' 'L' 'L' 'R' 'R'\n",
            " 'R' 'R' 'L' 'B' 'R' 'R' 'R' 'L' 'B' 'L' 'L' 'R' 'B' 'L' 'L' 'R' 'L' 'R'\n",
            " 'R' 'R' 'R' 'B' 'B' 'R' 'R' 'R' 'L' 'R' 'L' 'R' 'L' 'R' 'L' 'R' 'L' 'R'\n",
            " 'L' 'R' 'R' 'L' 'R' 'B' 'R' 'L' 'R' 'R' 'L' 'R' 'L' 'R' 'R' 'R' 'R' 'L'\n",
            " 'R' 'R' 'L' 'L' 'B' 'R' 'R' 'R']\n"
          ],
          "name": "stdout"
        }
      ]
    },
    {
      "metadata": {
        "id": "a_GZusOmkFlz",
        "colab_type": "code",
        "colab": {
          "base_uri": "https://localhost:8080/",
          "height": 34
        },
        "outputId": "f01615c8-391d-438b-d7f4-d1534595ff1f"
      },
      "cell_type": "code",
      "source": [
        "class_accuracy2=mt.accuracy_score(y_test, predict_op2)\n",
        "print(class_accuracy2)"
      ],
      "execution_count": 132,
      "outputs": [
        {
          "output_type": "stream",
          "text": [
            "0.7659574468085106\n"
          ],
          "name": "stdout"
        }
      ]
    },
    {
      "metadata": {
        "id": "a5KxMazOfswF",
        "colab_type": "text"
      },
      "cell_type": "markdown",
      "source": [
        "# Performing RandomForest with criterion\n",
        "## 1. gini\n",
        "## 2. entropy"
      ]
    },
    {
      "metadata": {
        "id": "Tt7VSoT9fvGw",
        "colab_type": "code",
        "colab": {}
      },
      "cell_type": "code",
      "source": [
        "from sklearn.ensemble import RandomForestClassifier"
      ],
      "execution_count": 0,
      "outputs": []
    },
    {
      "metadata": {
        "id": "8-7Zk8Ybhe4L",
        "colab_type": "text"
      },
      "cell_type": "markdown",
      "source": [
        "## gini"
      ]
    },
    {
      "metadata": {
        "id": "TEMywDCYfzC2",
        "colab_type": "code",
        "colab": {
          "base_uri": "https://localhost:8080/",
          "height": 136
        },
        "outputId": "a15880f3-3c42-4fed-9cc8-7a503bec68a9"
      },
      "cell_type": "code",
      "source": [
        "rf_gini = RandomForestClassifier(criterion = 'gini')\n",
        "rf_gini.fit(x_train,y_train)"
      ],
      "execution_count": 134,
      "outputs": [
        {
          "output_type": "execute_result",
          "data": {
            "text/plain": [
              "RandomForestClassifier(bootstrap=True, class_weight=None, criterion='gini',\n",
              "            max_depth=None, max_features='auto', max_leaf_nodes=None,\n",
              "            min_impurity_decrease=0.0, min_impurity_split=None,\n",
              "            min_samples_leaf=1, min_samples_split=2,\n",
              "            min_weight_fraction_leaf=0.0, n_estimators=10, n_jobs=1,\n",
              "            oob_score=False, random_state=None, verbose=0,\n",
              "            warm_start=False)"
            ]
          },
          "metadata": {
            "tags": []
          },
          "execution_count": 134
        }
      ]
    },
    {
      "metadata": {
        "id": "BBnRRMlgh-R7",
        "colab_type": "text"
      },
      "cell_type": "markdown",
      "source": [
        "### gini accuracy_score"
      ]
    },
    {
      "metadata": {
        "id": "JFLCaRZqf6I-",
        "colab_type": "code",
        "colab": {
          "base_uri": "https://localhost:8080/",
          "height": 204
        },
        "outputId": "4be75f90-f5c7-4350-910c-77ee73221d89"
      },
      "cell_type": "code",
      "source": [
        "predict_op3=rf_gini.predict(x_test)\n",
        "print(predict_op3)"
      ],
      "execution_count": 135,
      "outputs": [
        {
          "output_type": "stream",
          "text": [
            "['L' 'L' 'R' 'R' 'L' 'R' 'L' 'R' 'R' 'R' 'R' 'L' 'L' 'L' 'L' 'R' 'B' 'L'\n",
            " 'L' 'L' 'R' 'L' 'L' 'L' 'L' 'L' 'L' 'L' 'L' 'R' 'R' 'R' 'L' 'R' 'L' 'R'\n",
            " 'L' 'R' 'L' 'L' 'R' 'B' 'R' 'L' 'L' 'R' 'R' 'R' 'R' 'L' 'B' 'R' 'R' 'R'\n",
            " 'R' 'L' 'L' 'R' 'B' 'L' 'L' 'L' 'B' 'R' 'L' 'R' 'L' 'L' 'R' 'R' 'L' 'L'\n",
            " 'R' 'L' 'L' 'L' 'R' 'L' 'R' 'L' 'L' 'L' 'L' 'R' 'R' 'R' 'L' 'L' 'L' 'R'\n",
            " 'L' 'R' 'R' 'R' 'R' 'B' 'R' 'L' 'L' 'L' 'R' 'B' 'R' 'L' 'R' 'R' 'L' 'L'\n",
            " 'L' 'B' 'L' 'R' 'R' 'L' 'L' 'R' 'L' 'L' 'L' 'L' 'R' 'L' 'L' 'L' 'R' 'R'\n",
            " 'R' 'R' 'L' 'R' 'R' 'R' 'R' 'L' 'B' 'L' 'L' 'R' 'B' 'L' 'L' 'R' 'L' 'L'\n",
            " 'R' 'R' 'R' 'B' 'B' 'R' 'R' 'L' 'L' 'R' 'L' 'R' 'L' 'R' 'L' 'R' 'L' 'R'\n",
            " 'L' 'R' 'R' 'L' 'R' 'B' 'R' 'L' 'R' 'R' 'L' 'R' 'L' 'L' 'R' 'R' 'R' 'L'\n",
            " 'R' 'R' 'L' 'L' 'L' 'R' 'R' 'R']\n"
          ],
          "name": "stdout"
        }
      ]
    },
    {
      "metadata": {
        "id": "Sq5kEETekyBQ",
        "colab_type": "code",
        "colab": {
          "base_uri": "https://localhost:8080/",
          "height": 34
        },
        "outputId": "45c64a23-de2c-4d5c-d6a7-32e7c33a9a33"
      },
      "cell_type": "code",
      "source": [
        "class_accuracy3=mt.accuracy_score(y_test, predict_op3)\n",
        "print(class_accuracy3)"
      ],
      "execution_count": 136,
      "outputs": [
        {
          "output_type": "stream",
          "text": [
            "0.7712765957446809\n"
          ],
          "name": "stdout"
        }
      ]
    },
    {
      "metadata": {
        "id": "03vO-N94hjN2",
        "colab_type": "text"
      },
      "cell_type": "markdown",
      "source": [
        "## entropy"
      ]
    },
    {
      "metadata": {
        "id": "g4ydKyLsgBKY",
        "colab_type": "code",
        "colab": {
          "base_uri": "https://localhost:8080/",
          "height": 136
        },
        "outputId": "ab66dbe9-9d15-4e9c-ed6b-7e798ccbd08c"
      },
      "cell_type": "code",
      "source": [
        "rf_entropy = RandomForestClassifier(criterion = 'entropy')\n",
        "rf_entropy.fit(x_train,y_train)"
      ],
      "execution_count": 137,
      "outputs": [
        {
          "output_type": "execute_result",
          "data": {
            "text/plain": [
              "RandomForestClassifier(bootstrap=True, class_weight=None, criterion='entropy',\n",
              "            max_depth=None, max_features='auto', max_leaf_nodes=None,\n",
              "            min_impurity_decrease=0.0, min_impurity_split=None,\n",
              "            min_samples_leaf=1, min_samples_split=2,\n",
              "            min_weight_fraction_leaf=0.0, n_estimators=10, n_jobs=1,\n",
              "            oob_score=False, random_state=None, verbose=0,\n",
              "            warm_start=False)"
            ]
          },
          "metadata": {
            "tags": []
          },
          "execution_count": 137
        }
      ]
    },
    {
      "metadata": {
        "id": "zPAPtLYClnM9",
        "colab_type": "text"
      },
      "cell_type": "markdown",
      "source": [
        "### entropy accuracy_score"
      ]
    },
    {
      "metadata": {
        "id": "6yJ0uj52i3GI",
        "colab_type": "code",
        "colab": {
          "base_uri": "https://localhost:8080/",
          "height": 272
        },
        "outputId": "4fab491e-1b69-47a7-cbe4-97cabf30e417"
      },
      "cell_type": "code",
      "source": [
        "predict_op4=rf_entropy.predict(x_test)\n",
        "predict_op4"
      ],
      "execution_count": 138,
      "outputs": [
        {
          "output_type": "execute_result",
          "data": {
            "text/plain": [
              "array(['L', 'L', 'R', 'R', 'L', 'R', 'R', 'R', 'R', 'R', 'R', 'L', 'L',\n",
              "       'L', 'L', 'R', 'R', 'L', 'L', 'L', 'R', 'L', 'L', 'L', 'L', 'L',\n",
              "       'L', 'L', 'L', 'R', 'R', 'R', 'L', 'R', 'L', 'R', 'L', 'L', 'L',\n",
              "       'R', 'R', 'B', 'R', 'L', 'L', 'R', 'R', 'L', 'R', 'L', 'B', 'R',\n",
              "       'R', 'R', 'R', 'L', 'B', 'R', 'B', 'L', 'L', 'L', 'R', 'R', 'L',\n",
              "       'R', 'L', 'L', 'R', 'R', 'L', 'R', 'R', 'R', 'L', 'L', 'R', 'L',\n",
              "       'R', 'L', 'L', 'L', 'L', 'R', 'R', 'R', 'L', 'L', 'L', 'R', 'R',\n",
              "       'R', 'R', 'R', 'R', 'B', 'R', 'L', 'L', 'L', 'R', 'B', 'R', 'L',\n",
              "       'R', 'R', 'L', 'L', 'L', 'B', 'L', 'R', 'L', 'L', 'L', 'R', 'R',\n",
              "       'R', 'L', 'L', 'R', 'B', 'L', 'L', 'R', 'R', 'R', 'R', 'L', 'R',\n",
              "       'R', 'R', 'R', 'L', 'L', 'L', 'L', 'R', 'B', 'L', 'L', 'R', 'L',\n",
              "       'R', 'R', 'R', 'R', 'B', 'R', 'R', 'R', 'R', 'L', 'R', 'L', 'R',\n",
              "       'L', 'R', 'L', 'R', 'L', 'R', 'L', 'R', 'R', 'L', 'R', 'B', 'R',\n",
              "       'L', 'R', 'R', 'L', 'R', 'L', 'R', 'L', 'R', 'R', 'L', 'R', 'R',\n",
              "       'L', 'L', 'R', 'R', 'R', 'R'], dtype=object)"
            ]
          },
          "metadata": {
            "tags": []
          },
          "execution_count": 138
        }
      ]
    },
    {
      "metadata": {
        "id": "pwrIy-RegLP3",
        "colab_type": "code",
        "colab": {
          "base_uri": "https://localhost:8080/",
          "height": 34
        },
        "outputId": "5cd2fa87-327b-43f3-edb6-2399cdbf8bc4"
      },
      "cell_type": "code",
      "source": [
        "rf_entropy.score(x_test,y_test)"
      ],
      "execution_count": 139,
      "outputs": [
        {
          "output_type": "execute_result",
          "data": {
            "text/plain": [
              "0.8031914893617021"
            ]
          },
          "metadata": {
            "tags": []
          },
          "execution_count": 139
        }
      ]
    }
  ]
}