{
  "nbformat": 4,
  "nbformat_minor": 0,
  "metadata": {
    "colab": {
      "name": "assignment_16.ipynb",
      "version": "0.3.2",
      "provenance": [],
      "include_colab_link": true
    },
    "kernelspec": {
      "name": "python3",
      "display_name": "Python 3"
    }
  },
  "cells": [
    {
      "cell_type": "markdown",
      "metadata": {
        "id": "view-in-github",
        "colab_type": "text"
      },
      "source": [
        "[View in Colaboratory](https://colab.research.google.com/github/ditiansm2015/ML-May-28/blob/master/assignment_16.ipynb)"
      ]
    },
    {
      "metadata": {
        "id": "aUNt3KEBP9Mm",
        "colab_type": "code",
        "colab": {}
      },
      "cell_type": "code",
      "source": [
        "# Importing libraries\n",
        "import pandas as pd\n",
        "import sklearn.metrics as mt"
      ],
      "execution_count": 0,
      "outputs": []
    },
    {
      "metadata": {
        "id": "nf8Zx0CIdO2r",
        "colab_type": "code",
        "colab": {
          "base_uri": "https://localhost:8080/",
          "height": 204
        },
        "outputId": "fa9b5a04-1362-47a9-eb69-5b2ac27c57c7"
      },
      "cell_type": "code",
      "source": [
        "# Reading dataset\n",
        "df= pd.read_csv('https://archive.ics.uci.edu/ml/machine-learning-databases/balance-scale/balance-scale.data',names=['Class','Left-dist','Left-weight','Right-distance','Right-weight'])\n",
        "df.head()"
      ],
      "execution_count": 95,
      "outputs": [
        {
          "output_type": "execute_result",
          "data": {
            "text/html": [
              "<div>\n",
              "<style scoped>\n",
              "    .dataframe tbody tr th:only-of-type {\n",
              "        vertical-align: middle;\n",
              "    }\n",
              "\n",
              "    .dataframe tbody tr th {\n",
              "        vertical-align: top;\n",
              "    }\n",
              "\n",
              "    .dataframe thead th {\n",
              "        text-align: right;\n",
              "    }\n",
              "</style>\n",
              "<table border=\"1\" class=\"dataframe\">\n",
              "  <thead>\n",
              "    <tr style=\"text-align: right;\">\n",
              "      <th></th>\n",
              "      <th>Class</th>\n",
              "      <th>Left-dist</th>\n",
              "      <th>Left-weight</th>\n",
              "      <th>Right-distance</th>\n",
              "      <th>Right-weight</th>\n",
              "    </tr>\n",
              "  </thead>\n",
              "  <tbody>\n",
              "    <tr>\n",
              "      <th>0</th>\n",
              "      <td>B</td>\n",
              "      <td>1</td>\n",
              "      <td>1</td>\n",
              "      <td>1</td>\n",
              "      <td>1</td>\n",
              "    </tr>\n",
              "    <tr>\n",
              "      <th>1</th>\n",
              "      <td>R</td>\n",
              "      <td>1</td>\n",
              "      <td>1</td>\n",
              "      <td>1</td>\n",
              "      <td>2</td>\n",
              "    </tr>\n",
              "    <tr>\n",
              "      <th>2</th>\n",
              "      <td>R</td>\n",
              "      <td>1</td>\n",
              "      <td>1</td>\n",
              "      <td>1</td>\n",
              "      <td>3</td>\n",
              "    </tr>\n",
              "    <tr>\n",
              "      <th>3</th>\n",
              "      <td>R</td>\n",
              "      <td>1</td>\n",
              "      <td>1</td>\n",
              "      <td>1</td>\n",
              "      <td>4</td>\n",
              "    </tr>\n",
              "    <tr>\n",
              "      <th>4</th>\n",
              "      <td>R</td>\n",
              "      <td>1</td>\n",
              "      <td>1</td>\n",
              "      <td>1</td>\n",
              "      <td>5</td>\n",
              "    </tr>\n",
              "  </tbody>\n",
              "</table>\n",
              "</div>"
            ],
            "text/plain": [
              "  Class  Left-dist  Left-weight  Right-distance  Right-weight\n",
              "0     B          1            1               1             1\n",
              "1     R          1            1               1             2\n",
              "2     R          1            1               1             3\n",
              "3     R          1            1               1             4\n",
              "4     R          1            1               1             5"
            ]
          },
          "metadata": {
            "tags": []
          },
          "execution_count": 95
        }
      ]
    },
    {
      "metadata": {
        "id": "De4T53nWdQs3",
        "colab_type": "code",
        "colab": {
          "base_uri": "https://localhost:8080/",
          "height": 34
        },
        "outputId": "930a5a7e-46ee-4f4d-a205-e185bf960023"
      },
      "cell_type": "code",
      "source": [
        "df.shape"
      ],
      "execution_count": 96,
      "outputs": [
        {
          "output_type": "execute_result",
          "data": {
            "text/plain": [
              "(625, 5)"
            ]
          },
          "metadata": {
            "tags": []
          },
          "execution_count": 96
        }
      ]
    },
    {
      "metadata": {
        "id": "mSSplvZMdYpw",
        "colab_type": "code",
        "colab": {}
      },
      "cell_type": "code",
      "source": [
        "# Breaking datapoints into features and labels\n",
        "X = df.drop('Class',axis=1)\n",
        "y = df['Class'] "
      ],
      "execution_count": 0,
      "outputs": []
    },
    {
      "metadata": {
        "id": "XjD3BYtpdyu1",
        "colab_type": "code",
        "colab": {}
      },
      "cell_type": "code",
      "source": [
        "from sklearn.cross_validation import train_test_split"
      ],
      "execution_count": 0,
      "outputs": []
    },
    {
      "metadata": {
        "id": "aOsqZ7wnd4ha",
        "colab_type": "code",
        "colab": {}
      },
      "cell_type": "code",
      "source": [
        "# Splitting dataset into test set and train set\n",
        "x_train , x_test , y_train , y_test = train_test_split(X, y , test_size = 0.30,random_state =405)"
      ],
      "execution_count": 0,
      "outputs": []
    },
    {
      "metadata": {
        "id": "-5nKUWdcg87W",
        "colab_type": "text"
      },
      "cell_type": "markdown",
      "source": [
        "# Performing DecisionTree with criterion\n",
        "## 1. gini\n",
        "## 2. entropy"
      ]
    },
    {
      "metadata": {
        "id": "JBTco_Zhd5Jz",
        "colab_type": "code",
        "colab": {}
      },
      "cell_type": "code",
      "source": [
        "from sklearn.tree import DecisionTreeClassifier"
      ],
      "execution_count": 0,
      "outputs": []
    },
    {
      "metadata": {
        "id": "_OQY3LkahMt9",
        "colab_type": "text"
      },
      "cell_type": "markdown",
      "source": [
        "## gini"
      ]
    },
    {
      "metadata": {
        "id": "jX5lSnfDeAQW",
        "colab_type": "code",
        "colab": {
          "base_uri": "https://localhost:8080/",
          "height": 119
        },
        "outputId": "7ba46adb-3374-4033-a5e4-23825e5ac1ca"
      },
      "cell_type": "code",
      "source": [
        "d_tree_gini = DecisionTreeClassifier(criterion='gini')\n",
        "d_tree_gini.fit(x_train,y_train)"
      ],
      "execution_count": 101,
      "outputs": [
        {
          "output_type": "execute_result",
          "data": {
            "text/plain": [
              "DecisionTreeClassifier(class_weight=None, criterion='gini', max_depth=None,\n",
              "            max_features=None, max_leaf_nodes=None,\n",
              "            min_impurity_decrease=0.0, min_impurity_split=None,\n",
              "            min_samples_leaf=1, min_samples_split=2,\n",
              "            min_weight_fraction_leaf=0.0, presort=False, random_state=None,\n",
              "            splitter='best')"
            ]
          },
          "metadata": {
            "tags": []
          },
          "execution_count": 101
        }
      ]
    },
    {
      "metadata": {
        "id": "EaCqzGRWh1HV",
        "colab_type": "text"
      },
      "cell_type": "markdown",
      "source": [
        "### gini accuracy_score"
      ]
    },
    {
      "metadata": {
        "id": "6mDmx90Jjrik",
        "colab_type": "code",
        "colab": {
          "base_uri": "https://localhost:8080/",
          "height": 204
        },
        "outputId": "be792ec6-6285-4bc9-b002-ab877354a44a"
      },
      "cell_type": "code",
      "source": [
        "predict_op1=d_tree_gini.predict(x_test)\n",
        "print(predict_op1)"
      ],
      "execution_count": 102,
      "outputs": [
        {
          "output_type": "stream",
          "text": [
            "['L' 'L' 'R' 'R' 'R' 'R' 'B' 'L' 'L' 'R' 'L' 'R' 'B' 'L' 'L' 'R' 'L' 'R'\n",
            " 'R' 'L' 'L' 'L' 'B' 'R' 'L' 'R' 'L' 'L' 'R' 'L' 'B' 'L' 'L' 'R' 'R' 'R'\n",
            " 'B' 'R' 'B' 'L' 'L' 'R' 'R' 'R' 'R' 'R' 'R' 'R' 'R' 'R' 'R' 'L' 'R' 'B'\n",
            " 'R' 'L' 'R' 'L' 'R' 'L' 'B' 'R' 'L' 'R' 'L' 'L' 'B' 'R' 'L' 'L' 'R' 'L'\n",
            " 'R' 'R' 'R' 'R' 'R' 'R' 'B' 'R' 'L' 'R' 'L' 'R' 'L' 'R' 'L' 'B' 'L' 'L'\n",
            " 'B' 'L' 'L' 'R' 'B' 'L' 'L' 'R' 'B' 'L' 'L' 'R' 'R' 'L' 'L' 'R' 'L' 'L'\n",
            " 'R' 'R' 'L' 'L' 'L' 'L' 'L' 'B' 'R' 'R' 'L' 'B' 'R' 'R' 'L' 'L' 'R' 'R'\n",
            " 'B' 'R' 'L' 'R' 'R' 'L' 'R' 'L' 'L' 'R' 'L' 'R' 'R' 'B' 'R' 'L' 'R' 'L'\n",
            " 'L' 'L' 'L' 'B' 'R' 'L' 'L' 'R' 'L' 'R' 'B' 'R' 'B' 'R' 'L' 'R' 'R' 'R'\n",
            " 'L' 'R' 'L' 'R' 'L' 'L' 'R' 'L' 'R' 'R' 'R' 'R' 'L' 'L' 'B' 'R' 'B' 'L'\n",
            " 'B' 'R' 'R' 'L' 'R' 'R' 'L' 'L']\n"
          ],
          "name": "stdout"
        }
      ]
    },
    {
      "metadata": {
        "id": "l-BhOl3cjlp4",
        "colab_type": "code",
        "colab": {
          "base_uri": "https://localhost:8080/",
          "height": 34
        },
        "outputId": "f7fb6519-27c7-4815-bb5f-626811e2283a"
      },
      "cell_type": "code",
      "source": [
        "class_accuracy=mt.accuracy_score(y_test, predict_op1)\n",
        "print(class_accuracy)"
      ],
      "execution_count": 103,
      "outputs": [
        {
          "output_type": "stream",
          "text": [
            "0.7340425531914894\n"
          ],
          "name": "stdout"
        }
      ]
    },
    {
      "metadata": {
        "id": "jz2KySNPhQVS",
        "colab_type": "text"
      },
      "cell_type": "markdown",
      "source": [
        "## entropy"
      ]
    },
    {
      "metadata": {
        "id": "ZoPwb7dkfKU4",
        "colab_type": "code",
        "colab": {
          "base_uri": "https://localhost:8080/",
          "height": 119
        },
        "outputId": "06278b1c-a17f-4ee4-cb4e-088f22b0af6d"
      },
      "cell_type": "code",
      "source": [
        "d_tree_entropy = DecisionTreeClassifier(criterion='entropy')\n",
        "d_tree_entropy.fit(x_train,y_train)"
      ],
      "execution_count": 104,
      "outputs": [
        {
          "output_type": "execute_result",
          "data": {
            "text/plain": [
              "DecisionTreeClassifier(class_weight=None, criterion='entropy', max_depth=None,\n",
              "            max_features=None, max_leaf_nodes=None,\n",
              "            min_impurity_decrease=0.0, min_impurity_split=None,\n",
              "            min_samples_leaf=1, min_samples_split=2,\n",
              "            min_weight_fraction_leaf=0.0, presort=False, random_state=None,\n",
              "            splitter='best')"
            ]
          },
          "metadata": {
            "tags": []
          },
          "execution_count": 104
        }
      ]
    },
    {
      "metadata": {
        "id": "Q2iFEI-5h6LM",
        "colab_type": "text"
      },
      "cell_type": "markdown",
      "source": [
        "### entropy accuracy_score"
      ]
    },
    {
      "metadata": {
        "id": "JqS6Qsd9fWer",
        "colab_type": "code",
        "colab": {
          "base_uri": "https://localhost:8080/",
          "height": 204
        },
        "outputId": "e5370a03-5bfd-4fb1-9c33-7a57e5ca95f4"
      },
      "cell_type": "code",
      "source": [
        "predict_op2=d_tree_entropy.predict(x_test)\n",
        "print(predict_op2)"
      ],
      "execution_count": 105,
      "outputs": [
        {
          "output_type": "stream",
          "text": [
            "['L' 'L' 'R' 'R' 'R' 'R' 'B' 'R' 'L' 'R' 'L' 'R' 'R' 'L' 'L' 'R' 'L' 'B'\n",
            " 'R' 'L' 'L' 'L' 'B' 'R' 'L' 'B' 'L' 'L' 'R' 'L' 'B' 'L' 'L' 'R' 'R' 'R'\n",
            " 'B' 'R' 'L' 'L' 'L' 'R' 'B' 'R' 'R' 'R' 'R' 'R' 'R' 'R' 'R' 'L' 'R' 'B'\n",
            " 'R' 'L' 'L' 'L' 'R' 'L' 'L' 'R' 'L' 'B' 'L' 'L' 'B' 'R' 'L' 'L' 'R' 'L'\n",
            " 'R' 'L' 'L' 'R' 'R' 'R' 'B' 'R' 'L' 'R' 'L' 'R' 'L' 'R' 'L' 'B' 'L' 'L'\n",
            " 'B' 'L' 'L' 'R' 'B' 'L' 'L' 'B' 'B' 'L' 'L' 'R' 'R' 'L' 'L' 'R' 'L' 'L'\n",
            " 'R' 'L' 'L' 'L' 'L' 'L' 'L' 'R' 'R' 'R' 'L' 'B' 'R' 'R' 'L' 'L' 'R' 'R'\n",
            " 'B' 'R' 'L' 'R' 'R' 'L' 'R' 'L' 'L' 'R' 'L' 'R' 'R' 'B' 'L' 'L' 'L' 'L'\n",
            " 'L' 'L' 'L' 'B' 'R' 'L' 'L' 'R' 'L' 'R' 'L' 'R' 'B' 'R' 'L' 'R' 'R' 'R'\n",
            " 'L' 'R' 'L' 'R' 'L' 'L' 'R' 'L' 'R' 'R' 'R' 'R' 'L' 'L' 'B' 'R' 'R' 'L'\n",
            " 'L' 'R' 'R' 'L' 'R' 'R' 'L' 'L']\n"
          ],
          "name": "stdout"
        }
      ]
    },
    {
      "metadata": {
        "id": "a_GZusOmkFlz",
        "colab_type": "code",
        "colab": {
          "base_uri": "https://localhost:8080/",
          "height": 34
        },
        "outputId": "d417c569-3118-4530-af93-7d518f28c66f"
      },
      "cell_type": "code",
      "source": [
        "class_accuracy2=mt.accuracy_score(y_test, predict_op2)\n",
        "print(class_accuracy2)"
      ],
      "execution_count": 106,
      "outputs": [
        {
          "output_type": "stream",
          "text": [
            "0.7340425531914894\n"
          ],
          "name": "stdout"
        }
      ]
    },
    {
      "metadata": {
        "id": "a5KxMazOfswF",
        "colab_type": "text"
      },
      "cell_type": "markdown",
      "source": [
        "# Performing RandomForest with criterion\n",
        "## 1. gini\n",
        "## 2. entropy"
      ]
    },
    {
      "metadata": {
        "id": "Tt7VSoT9fvGw",
        "colab_type": "code",
        "colab": {}
      },
      "cell_type": "code",
      "source": [
        "from sklearn.ensemble import RandomForestClassifier"
      ],
      "execution_count": 0,
      "outputs": []
    },
    {
      "metadata": {
        "id": "8-7Zk8Ybhe4L",
        "colab_type": "text"
      },
      "cell_type": "markdown",
      "source": [
        "## gini"
      ]
    },
    {
      "metadata": {
        "id": "TEMywDCYfzC2",
        "colab_type": "code",
        "colab": {
          "base_uri": "https://localhost:8080/",
          "height": 136
        },
        "outputId": "1351b6c6-844a-42fa-b22a-14e981616045"
      },
      "cell_type": "code",
      "source": [
        "rf_gini = RandomForestClassifier(criterion = 'gini')\n",
        "rf_gini.fit(x_train,y_train)"
      ],
      "execution_count": 108,
      "outputs": [
        {
          "output_type": "execute_result",
          "data": {
            "text/plain": [
              "RandomForestClassifier(bootstrap=True, class_weight=None, criterion='gini',\n",
              "            max_depth=None, max_features='auto', max_leaf_nodes=None,\n",
              "            min_impurity_decrease=0.0, min_impurity_split=None,\n",
              "            min_samples_leaf=1, min_samples_split=2,\n",
              "            min_weight_fraction_leaf=0.0, n_estimators=10, n_jobs=1,\n",
              "            oob_score=False, random_state=None, verbose=0,\n",
              "            warm_start=False)"
            ]
          },
          "metadata": {
            "tags": []
          },
          "execution_count": 108
        }
      ]
    },
    {
      "metadata": {
        "id": "BBnRRMlgh-R7",
        "colab_type": "text"
      },
      "cell_type": "markdown",
      "source": [
        "### gini accuracy_score"
      ]
    },
    {
      "metadata": {
        "id": "JFLCaRZqf6I-",
        "colab_type": "code",
        "colab": {
          "base_uri": "https://localhost:8080/",
          "height": 204
        },
        "outputId": "38ec73b8-5969-4ffe-be68-44405a958fe7"
      },
      "cell_type": "code",
      "source": [
        "predict_op3=rf_gini.predict(x_test)\n",
        "print(predict_op3)"
      ],
      "execution_count": 109,
      "outputs": [
        {
          "output_type": "stream",
          "text": [
            "['L' 'L' 'R' 'R' 'R' 'R' 'R' 'L' 'L' 'R' 'L' 'R' 'B' 'L' 'L' 'R' 'L' 'R'\n",
            " 'R' 'L' 'L' 'L' 'B' 'R' 'L' 'R' 'L' 'L' 'R' 'L' 'R' 'L' 'L' 'R' 'R' 'R'\n",
            " 'R' 'R' 'L' 'R' 'R' 'R' 'R' 'R' 'R' 'R' 'R' 'R' 'R' 'R' 'R' 'L' 'R' 'R'\n",
            " 'R' 'L' 'L' 'L' 'R' 'L' 'L' 'R' 'L' 'R' 'L' 'L' 'B' 'R' 'L' 'L' 'R' 'L'\n",
            " 'R' 'L' 'R' 'R' 'R' 'R' 'R' 'R' 'L' 'R' 'L' 'R' 'L' 'R' 'L' 'B' 'L' 'L'\n",
            " 'B' 'L' 'L' 'R' 'L' 'L' 'L' 'R' 'L' 'L' 'L' 'R' 'R' 'L' 'L' 'L' 'L' 'L'\n",
            " 'R' 'L' 'L' 'L' 'L' 'L' 'L' 'B' 'R' 'R' 'L' 'B' 'R' 'R' 'L' 'L' 'R' 'R'\n",
            " 'L' 'R' 'L' 'R' 'R' 'L' 'R' 'L' 'L' 'R' 'L' 'R' 'R' 'B' 'L' 'R' 'L' 'L'\n",
            " 'L' 'L' 'L' 'R' 'R' 'L' 'L' 'R' 'L' 'R' 'B' 'R' 'B' 'R' 'L' 'R' 'R' 'R'\n",
            " 'L' 'R' 'L' 'R' 'L' 'L' 'R' 'L' 'R' 'R' 'R' 'R' 'L' 'L' 'B' 'R' 'L' 'B'\n",
            " 'L' 'R' 'R' 'L' 'R' 'R' 'L' 'R']\n"
          ],
          "name": "stdout"
        }
      ]
    },
    {
      "metadata": {
        "id": "Sq5kEETekyBQ",
        "colab_type": "code",
        "colab": {
          "base_uri": "https://localhost:8080/",
          "height": 34
        },
        "outputId": "5064c670-52f3-4d70-9120-6c2aa2020a3d"
      },
      "cell_type": "code",
      "source": [
        "class_accuracy3=mt.accuracy_score(y_test, predict_op3)\n",
        "print(class_accuracy3)"
      ],
      "execution_count": 110,
      "outputs": [
        {
          "output_type": "stream",
          "text": [
            "0.7925531914893617\n"
          ],
          "name": "stdout"
        }
      ]
    },
    {
      "metadata": {
        "id": "03vO-N94hjN2",
        "colab_type": "text"
      },
      "cell_type": "markdown",
      "source": [
        "## entropy"
      ]
    },
    {
      "metadata": {
        "id": "g4ydKyLsgBKY",
        "colab_type": "code",
        "colab": {
          "base_uri": "https://localhost:8080/",
          "height": 136
        },
        "outputId": "62320df7-cc17-497b-9375-1d28def938d2"
      },
      "cell_type": "code",
      "source": [
        "rf_entropy = RandomForestClassifier(criterion = 'entropy')\n",
        "rf_entropy.fit(x_train,y_train)"
      ],
      "execution_count": 111,
      "outputs": [
        {
          "output_type": "execute_result",
          "data": {
            "text/plain": [
              "RandomForestClassifier(bootstrap=True, class_weight=None, criterion='entropy',\n",
              "            max_depth=None, max_features='auto', max_leaf_nodes=None,\n",
              "            min_impurity_decrease=0.0, min_impurity_split=None,\n",
              "            min_samples_leaf=1, min_samples_split=2,\n",
              "            min_weight_fraction_leaf=0.0, n_estimators=10, n_jobs=1,\n",
              "            oob_score=False, random_state=None, verbose=0,\n",
              "            warm_start=False)"
            ]
          },
          "metadata": {
            "tags": []
          },
          "execution_count": 111
        }
      ]
    },
    {
      "metadata": {
        "id": "zPAPtLYClnM9",
        "colab_type": "text"
      },
      "cell_type": "markdown",
      "source": [
        "### entropy accuracy_score"
      ]
    },
    {
      "metadata": {
        "id": "6yJ0uj52i3GI",
        "colab_type": "code",
        "colab": {
          "base_uri": "https://localhost:8080/",
          "height": 272
        },
        "outputId": "46b5f499-fc48-4e5c-d10d-d63365e8f6d5"
      },
      "cell_type": "code",
      "source": [
        "predict_op4=rf_entropy.predict(x_test)\n",
        "predict_op4"
      ],
      "execution_count": 112,
      "outputs": [
        {
          "output_type": "execute_result",
          "data": {
            "text/plain": [
              "array(['L', 'L', 'R', 'R', 'R', 'R', 'B', 'R', 'L', 'R', 'L', 'R', 'R',\n",
              "       'L', 'L', 'R', 'L', 'R', 'R', 'L', 'L', 'L', 'B', 'R', 'L', 'R',\n",
              "       'L', 'L', 'R', 'L', 'B', 'L', 'L', 'R', 'R', 'R', 'B', 'R', 'L',\n",
              "       'L', 'R', 'R', 'L', 'R', 'R', 'R', 'R', 'R', 'R', 'R', 'R', 'L',\n",
              "       'R', 'L', 'R', 'R', 'L', 'L', 'R', 'L', 'L', 'R', 'L', 'B', 'L',\n",
              "       'L', 'R', 'R', 'L', 'L', 'R', 'L', 'R', 'R', 'L', 'R', 'R', 'R',\n",
              "       'L', 'R', 'L', 'R', 'L', 'L', 'L', 'R', 'L', 'B', 'L', 'L', 'B',\n",
              "       'L', 'L', 'R', 'L', 'L', 'L', 'B', 'B', 'L', 'L', 'R', 'B', 'L',\n",
              "       'R', 'L', 'L', 'L', 'R', 'R', 'L', 'L', 'L', 'L', 'L', 'L', 'R',\n",
              "       'R', 'L', 'B', 'R', 'R', 'L', 'L', 'R', 'R', 'B', 'R', 'L', 'R',\n",
              "       'L', 'L', 'R', 'L', 'L', 'R', 'L', 'R', 'R', 'B', 'L', 'L', 'L',\n",
              "       'L', 'L', 'L', 'L', 'R', 'R', 'L', 'L', 'R', 'L', 'R', 'L', 'R',\n",
              "       'B', 'R', 'L', 'R', 'R', 'R', 'L', 'R', 'L', 'R', 'L', 'L', 'R',\n",
              "       'L', 'R', 'R', 'R', 'R', 'L', 'L', 'L', 'R', 'L', 'B', 'L', 'L',\n",
              "       'R', 'L', 'R', 'R', 'L', 'L'], dtype=object)"
            ]
          },
          "metadata": {
            "tags": []
          },
          "execution_count": 112
        }
      ]
    },
    {
      "metadata": {
        "id": "pwrIy-RegLP3",
        "colab_type": "code",
        "colab": {
          "base_uri": "https://localhost:8080/",
          "height": 34
        },
        "outputId": "b0c583e7-e3bb-46f6-e461-bcf37bc9e79e"
      },
      "cell_type": "code",
      "source": [
        "rf_entropy.score(x_test,y_test)"
      ],
      "execution_count": 113,
      "outputs": [
        {
          "output_type": "execute_result",
          "data": {
            "text/plain": [
              "0.7606382978723404"
            ]
          },
          "metadata": {
            "tags": []
          },
          "execution_count": 113
        }
      ]
    }
  ]
}