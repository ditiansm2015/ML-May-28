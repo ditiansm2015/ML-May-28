{
  "nbformat": 4,
  "nbformat_minor": 0,
  "metadata": {
    "colab": {
      "name": "Untitled6.ipynb",
      "version": "0.3.2",
      "provenance": [],
      "collapsed_sections": []
    },
    "kernelspec": {
      "name": "python3",
      "display_name": "Python 3"
    }
  },
  "cells": [
    {
      "cell_type": "markdown",
      "metadata": {
        "id": "view-in-github",
        "colab_type": "text"
      },
      "source": [
        "[View in Colaboratory](https://colab.research.google.com/github/ditiansm2015/ML-May-28/blob/master/assignment_5.ipynb)"
      ]
    },
    {
      "metadata": {
        "id": "STPr39XMrnxD",
        "colab_type": "text"
      },
      "cell_type": "markdown",
      "source": [
        "SUDHANSHU MISHRA\n",
        "\n",
        "Machine Learning with Python (SUM18 ML ON1)\n",
        "\n",
        "ASSIGNMENT_5"
      ]
    },
    {
      "metadata": {
        "id": "5qKJS4Czro-a",
        "colab_type": "code",
        "colab": {
          "base_uri": "https://localhost:8080/",
          "height": 974
        },
        "outputId": "a0d4a7c1-2489-4241-fcfb-13ec6826d8ec"
      },
      "cell_type": "code",
      "source": [
        "# Question 1\n",
        "# Download the dataset from this link and solve all these questions, \n",
        "# https://raw.githubusercontent.com/Shreyas3108/Weather/master/weather.csv\n",
        "# a.) Find the sum of missing data for every column in the dataset using the (isnull function and sum function) \n",
        "# b.) Remove the missing values (if any) \n",
        "# c.) Once again , Import the dataset and this time replace the missing null values with mean of the column series. \n",
        "# d.) Find individual data types and copy the temperature column to a pandas series. \n",
        "\n",
        "\n",
        "# Question 1 -(a) and (b)\n",
        "# a.) Find the sum of missing data for every column in the dataset using the (isnull function and sum function) \n",
        "# b.) Remove the missing values (if any) \n",
        "\n",
        "import pandas as pd\n",
        "\n",
        "# importing csv file from the given URL\n",
        "df=pd.read_csv(\"https://raw.githubusercontent.com/Shreyas3108/Weather/master/weather.csv\")\n",
        "\n",
        "# calculating the number of null values in each column of dataframe\n",
        "nNullVal=df.isnull().sum()\n",
        "print(\"\\n\\nnumber of null values in each column of dataframe\\n\",nNullVal)\n",
        "\n",
        "# Question 1-(b)\n",
        "# droping the rows having even a single null value for any column\n",
        "cleanedData=df.dropna()\n",
        "\n",
        "# rechecking that there isn't any more null value in any column(i.e. sum of number of null values=0 for all the columns)\n",
        "checkNullVal=cleanedData.isnull().sum()\n",
        "print(\"\\n\\n\\nRemoving all the rows with null columns and rechecking for Null value\\n\",checkNullVal)\n"
      ],
      "execution_count": 51,
      "outputs": [
        {
          "output_type": "stream",
          "text": [
            "\n",
            "\n",
            "number of null values in each column of dataframe\n",
            " Date              0\n",
            "Location          0\n",
            "MinTemp           0\n",
            "MaxTemp           0\n",
            "Rainfall          0\n",
            "Evaporation       0\n",
            "Sunshine          3\n",
            "WindGustDir       3\n",
            "WindGustSpeed     2\n",
            "WindDir9am       31\n",
            "WindDir3pm        1\n",
            "WindSpeed9am      7\n",
            "WindSpeed3pm      0\n",
            "Humidity9am       0\n",
            "Humidity3pm       0\n",
            "Pressure9am       0\n",
            "Pressure3pm       0\n",
            "Cloud9am          0\n",
            "Cloud3pm          0\n",
            "Temp9am           0\n",
            "Temp3pm           0\n",
            "RainToday         0\n",
            "RISK_MM           0\n",
            "RainTomorrow      0\n",
            "dtype: int64\n",
            "\n",
            "\n",
            "\n",
            "Removing all the rows with null columns and rechecking for Null value\n",
            " Date             0\n",
            "Location         0\n",
            "MinTemp          0\n",
            "MaxTemp          0\n",
            "Rainfall         0\n",
            "Evaporation      0\n",
            "Sunshine         0\n",
            "WindGustDir      0\n",
            "WindGustSpeed    0\n",
            "WindDir9am       0\n",
            "WindDir3pm       0\n",
            "WindSpeed9am     0\n",
            "WindSpeed3pm     0\n",
            "Humidity9am      0\n",
            "Humidity3pm      0\n",
            "Pressure9am      0\n",
            "Pressure3pm      0\n",
            "Cloud9am         0\n",
            "Cloud3pm         0\n",
            "Temp9am          0\n",
            "Temp3pm          0\n",
            "RainToday        0\n",
            "RISK_MM          0\n",
            "RainTomorrow     0\n",
            "dtype: int64\n"
          ],
          "name": "stdout"
        }
      ]
    },
    {
      "metadata": {
        "id": "cA_CORUGzDWJ",
        "colab_type": "code",
        "colab": {
          "base_uri": "https://localhost:8080/",
          "height": 470
        },
        "outputId": "2e03437c-51d8-4a00-ece0-f5c72e70f284"
      },
      "cell_type": "code",
      "source": [
        "# Question 1 -(c)\n",
        "\n",
        "d1=pd.read_csv(\"https://raw.githubusercontent.com/Shreyas3108/Weather/master/weather.csv\")\n",
        "\n",
        "# Replacing all the null values of a column to the mean value of that column.\n",
        "d1=d1.fillna(d1.mean())\n",
        "\n",
        "# rechecking that there isn't any more null value in any column(i.e. sum of number of null values=0 for all the columns)\n",
        "# thus showing that all the null values have been replaced by the mean value of columns\n",
        "# NOTE: null values from string columns can't be replaced by its mean value as there doesn't exist any mean value for strings\n",
        "print(\"Replacing the null values to the mean values of columns\\n\")\n",
        "d1.isnull().sum()\n",
        "\n"
      ],
      "execution_count": 52,
      "outputs": [
        {
          "output_type": "stream",
          "text": [
            "Replacing the null values to the mean values of columns\n",
            "\n"
          ],
          "name": "stdout"
        },
        {
          "output_type": "execute_result",
          "data": {
            "text/plain": [
              "Date              0\n",
              "Location          0\n",
              "MinTemp           0\n",
              "MaxTemp           0\n",
              "Rainfall          0\n",
              "Evaporation       0\n",
              "Sunshine          0\n",
              "WindGustDir       3\n",
              "WindGustSpeed     0\n",
              "WindDir9am       31\n",
              "WindDir3pm        1\n",
              "WindSpeed9am      0\n",
              "WindSpeed3pm      0\n",
              "Humidity9am       0\n",
              "Humidity3pm       0\n",
              "Pressure9am       0\n",
              "Pressure3pm       0\n",
              "Cloud9am          0\n",
              "Cloud3pm          0\n",
              "Temp9am           0\n",
              "Temp3pm           0\n",
              "RainToday         0\n",
              "RISK_MM           0\n",
              "RainTomorrow      0\n",
              "dtype: int64"
            ]
          },
          "metadata": {
            "tags": []
          },
          "execution_count": 52
        }
      ]
    },
    {
      "metadata": {
        "id": "P_yOW-w4-znc",
        "colab_type": "code",
        "colab": {
          "base_uri": "https://localhost:8080/",
          "height": 34
        },
        "outputId": "032b3f09-1738-4267-b15f-7ce307645f5b"
      },
      "cell_type": "code",
      "source": [
        "# Question 1-(d)\n",
        "# Find individual data types and copy the temperature column to a pandas series. \n",
        "\n",
        "# importing csv file\n",
        "df=pd.read_csv(\"https://raw.githubusercontent.com/Shreyas3108/Weather/master/weather.csv\")\n",
        "\n",
        "#copying all columns into variable copyAllCols\n",
        "copyAllCols=df['MinTemp'].head(366)\n",
        "\n",
        "# converting the type of \"MinTemp\" column to Series type\n",
        "seriesType=pd.Series(copyAllCols)\n",
        "print(type(seriesType))"
      ],
      "execution_count": 53,
      "outputs": [
        {
          "output_type": "stream",
          "text": [
            "<class 'pandas.core.series.Series'>\n"
          ],
          "name": "stdout"
        }
      ]
    }
  ]
}