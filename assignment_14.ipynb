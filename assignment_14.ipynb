{
  "nbformat": 4,
  "nbformat_minor": 0,
  "metadata": {
    "colab": {
      "name": "assignment_14.ipynb",
      "version": "0.3.2",
      "provenance": [],
      "collapsed_sections": []
    },
    "kernelspec": {
      "name": "python3",
      "display_name": "Python 3"
    }
  },
  "cells": [
    {
      "cell_type": "markdown",
      "metadata": {
        "id": "view-in-github",
        "colab_type": "text"
      },
      "source": [
        "[View in Colaboratory](https://colab.research.google.com/github/ditiansm2015/ML-May-28/blob/master/assignment_14.ipynb)"
      ]
    },
    {
      "metadata": {
        "id": "bXkoLstZGoRM",
        "colab_type": "code",
        "colab": {}
      },
      "cell_type": "code",
      "source": [
        "import pandas as pd"
      ],
      "execution_count": 0,
      "outputs": []
    },
    {
      "metadata": {
        "id": "I2DNNLW6a656",
        "colab_type": "text"
      },
      "cell_type": "markdown",
      "source": [
        "# Question 1\n",
        "# Working on Weather-Play Dataset"
      ]
    },
    {
      "metadata": {
        "id": "AQghn-k5exUz",
        "colab_type": "text"
      },
      "cell_type": "markdown",
      "source": [
        "###p(Yes|Sunny ) = (p(Yes)*p(Sunny|Yes ) )/p(Sunny)\n",
        "###p(Yes|Sunny ) = (0.64*0.33 )/0.36\n",
        "###p(Yes|Sunny ) = 0.6"
      ]
    },
    {
      "metadata": {
        "id": "Khg9CPfCfBxr",
        "colab_type": "text"
      },
      "cell_type": "markdown",
      "source": [
        "###  Question 1 coding"
      ]
    },
    {
      "metadata": {
        "id": "t-hjAn6YGrP2",
        "colab_type": "code",
        "colab": {}
      },
      "cell_type": "code",
      "source": [
        "# Importing Dataset\n",
        "df=pd.read_csv(\"https://raw.githubusercontent.com/ditiansm2015/ML-May-28/master/assignment_14.csv\")"
      ],
      "execution_count": 0,
      "outputs": []
    },
    {
      "metadata": {
        "id": "v3AzLpnDGutZ",
        "colab_type": "code",
        "colab": {
          "base_uri": "https://localhost:8080/",
          "height": 467
        },
        "outputId": "0fe415fb-44a5-4871-c0cc-c245ab3f48ec"
      },
      "cell_type": "code",
      "source": [
        "# Showing dataset\n",
        "\n",
        "df"
      ],
      "execution_count": 548,
      "outputs": [
        {
          "output_type": "execute_result",
          "data": {
            "text/html": [
              "<div>\n",
              "<style scoped>\n",
              "    .dataframe tbody tr th:only-of-type {\n",
              "        vertical-align: middle;\n",
              "    }\n",
              "\n",
              "    .dataframe tbody tr th {\n",
              "        vertical-align: top;\n",
              "    }\n",
              "\n",
              "    .dataframe thead th {\n",
              "        text-align: right;\n",
              "    }\n",
              "</style>\n",
              "<table border=\"1\" class=\"dataframe\">\n",
              "  <thead>\n",
              "    <tr style=\"text-align: right;\">\n",
              "      <th></th>\n",
              "      <th>weather</th>\n",
              "      <th>play</th>\n",
              "    </tr>\n",
              "  </thead>\n",
              "  <tbody>\n",
              "    <tr>\n",
              "      <th>0</th>\n",
              "      <td>Sunny</td>\n",
              "      <td>No</td>\n",
              "    </tr>\n",
              "    <tr>\n",
              "      <th>1</th>\n",
              "      <td>Overcast</td>\n",
              "      <td>Yes</td>\n",
              "    </tr>\n",
              "    <tr>\n",
              "      <th>2</th>\n",
              "      <td>Rainy</td>\n",
              "      <td>Yes</td>\n",
              "    </tr>\n",
              "    <tr>\n",
              "      <th>3</th>\n",
              "      <td>Sunny</td>\n",
              "      <td>Yes</td>\n",
              "    </tr>\n",
              "    <tr>\n",
              "      <th>4</th>\n",
              "      <td>Sunny</td>\n",
              "      <td>Yes</td>\n",
              "    </tr>\n",
              "    <tr>\n",
              "      <th>5</th>\n",
              "      <td>Overcast</td>\n",
              "      <td>Yes</td>\n",
              "    </tr>\n",
              "    <tr>\n",
              "      <th>6</th>\n",
              "      <td>Rainy</td>\n",
              "      <td>No</td>\n",
              "    </tr>\n",
              "    <tr>\n",
              "      <th>7</th>\n",
              "      <td>Rainy</td>\n",
              "      <td>No</td>\n",
              "    </tr>\n",
              "    <tr>\n",
              "      <th>8</th>\n",
              "      <td>Sunny</td>\n",
              "      <td>Yes</td>\n",
              "    </tr>\n",
              "    <tr>\n",
              "      <th>9</th>\n",
              "      <td>Rainy</td>\n",
              "      <td>Yes</td>\n",
              "    </tr>\n",
              "    <tr>\n",
              "      <th>10</th>\n",
              "      <td>Sunny</td>\n",
              "      <td>No</td>\n",
              "    </tr>\n",
              "    <tr>\n",
              "      <th>11</th>\n",
              "      <td>Overcast</td>\n",
              "      <td>Yes</td>\n",
              "    </tr>\n",
              "    <tr>\n",
              "      <th>12</th>\n",
              "      <td>Overcast</td>\n",
              "      <td>Yes</td>\n",
              "    </tr>\n",
              "    <tr>\n",
              "      <th>13</th>\n",
              "      <td>Rainy</td>\n",
              "      <td>No</td>\n",
              "    </tr>\n",
              "  </tbody>\n",
              "</table>\n",
              "</div>"
            ],
            "text/plain": [
              "     weather play\n",
              "0      Sunny   No\n",
              "1   Overcast  Yes\n",
              "2      Rainy  Yes\n",
              "3      Sunny  Yes\n",
              "4      Sunny  Yes\n",
              "5   Overcast  Yes\n",
              "6      Rainy   No\n",
              "7      Rainy   No\n",
              "8      Sunny  Yes\n",
              "9      Rainy  Yes\n",
              "10     Sunny   No\n",
              "11  Overcast  Yes\n",
              "12  Overcast  Yes\n",
              "13     Rainy   No"
            ]
          },
          "metadata": {
            "tags": []
          },
          "execution_count": 548
        }
      ]
    },
    {
      "metadata": {
        "id": "PlaQDoIFMEPR",
        "colab_type": "code",
        "colab": {}
      },
      "cell_type": "code",
      "source": [
        "# We can use get_dummies() to convert strings into numeric values\n",
        "\n",
        "#dummy=pd.get_dummies(df['weather'])\n",
        "#df=pd.concat([df,dummy],axis=1)"
      ],
      "execution_count": 0,
      "outputs": []
    },
    {
      "metadata": {
        "id": "hX1wYOSeN-2b",
        "colab_type": "code",
        "colab": {
          "base_uri": "https://localhost:8080/",
          "height": 467
        },
        "outputId": "cdb3d421-5acc-4ecd-c62b-59ce9af492a9"
      },
      "cell_type": "code",
      "source": [
        "# Using Label Encoding to convert strings into numeric values\n",
        "\n",
        "df['play_encoded'] = label_encoder.fit_transform(df['play'])\n",
        "df['weather_encoded'] = label_encoder.fit_transform(df['weather'])\n",
        "df"
      ],
      "execution_count": 550,
      "outputs": [
        {
          "output_type": "execute_result",
          "data": {
            "text/html": [
              "<div>\n",
              "<style scoped>\n",
              "    .dataframe tbody tr th:only-of-type {\n",
              "        vertical-align: middle;\n",
              "    }\n",
              "\n",
              "    .dataframe tbody tr th {\n",
              "        vertical-align: top;\n",
              "    }\n",
              "\n",
              "    .dataframe thead th {\n",
              "        text-align: right;\n",
              "    }\n",
              "</style>\n",
              "<table border=\"1\" class=\"dataframe\">\n",
              "  <thead>\n",
              "    <tr style=\"text-align: right;\">\n",
              "      <th></th>\n",
              "      <th>weather</th>\n",
              "      <th>play</th>\n",
              "      <th>play_encoded</th>\n",
              "      <th>weather_encoded</th>\n",
              "    </tr>\n",
              "  </thead>\n",
              "  <tbody>\n",
              "    <tr>\n",
              "      <th>0</th>\n",
              "      <td>Sunny</td>\n",
              "      <td>No</td>\n",
              "      <td>0</td>\n",
              "      <td>2</td>\n",
              "    </tr>\n",
              "    <tr>\n",
              "      <th>1</th>\n",
              "      <td>Overcast</td>\n",
              "      <td>Yes</td>\n",
              "      <td>1</td>\n",
              "      <td>0</td>\n",
              "    </tr>\n",
              "    <tr>\n",
              "      <th>2</th>\n",
              "      <td>Rainy</td>\n",
              "      <td>Yes</td>\n",
              "      <td>1</td>\n",
              "      <td>1</td>\n",
              "    </tr>\n",
              "    <tr>\n",
              "      <th>3</th>\n",
              "      <td>Sunny</td>\n",
              "      <td>Yes</td>\n",
              "      <td>1</td>\n",
              "      <td>2</td>\n",
              "    </tr>\n",
              "    <tr>\n",
              "      <th>4</th>\n",
              "      <td>Sunny</td>\n",
              "      <td>Yes</td>\n",
              "      <td>1</td>\n",
              "      <td>2</td>\n",
              "    </tr>\n",
              "    <tr>\n",
              "      <th>5</th>\n",
              "      <td>Overcast</td>\n",
              "      <td>Yes</td>\n",
              "      <td>1</td>\n",
              "      <td>0</td>\n",
              "    </tr>\n",
              "    <tr>\n",
              "      <th>6</th>\n",
              "      <td>Rainy</td>\n",
              "      <td>No</td>\n",
              "      <td>0</td>\n",
              "      <td>1</td>\n",
              "    </tr>\n",
              "    <tr>\n",
              "      <th>7</th>\n",
              "      <td>Rainy</td>\n",
              "      <td>No</td>\n",
              "      <td>0</td>\n",
              "      <td>1</td>\n",
              "    </tr>\n",
              "    <tr>\n",
              "      <th>8</th>\n",
              "      <td>Sunny</td>\n",
              "      <td>Yes</td>\n",
              "      <td>1</td>\n",
              "      <td>2</td>\n",
              "    </tr>\n",
              "    <tr>\n",
              "      <th>9</th>\n",
              "      <td>Rainy</td>\n",
              "      <td>Yes</td>\n",
              "      <td>1</td>\n",
              "      <td>1</td>\n",
              "    </tr>\n",
              "    <tr>\n",
              "      <th>10</th>\n",
              "      <td>Sunny</td>\n",
              "      <td>No</td>\n",
              "      <td>0</td>\n",
              "      <td>2</td>\n",
              "    </tr>\n",
              "    <tr>\n",
              "      <th>11</th>\n",
              "      <td>Overcast</td>\n",
              "      <td>Yes</td>\n",
              "      <td>1</td>\n",
              "      <td>0</td>\n",
              "    </tr>\n",
              "    <tr>\n",
              "      <th>12</th>\n",
              "      <td>Overcast</td>\n",
              "      <td>Yes</td>\n",
              "      <td>1</td>\n",
              "      <td>0</td>\n",
              "    </tr>\n",
              "    <tr>\n",
              "      <th>13</th>\n",
              "      <td>Rainy</td>\n",
              "      <td>No</td>\n",
              "      <td>0</td>\n",
              "      <td>1</td>\n",
              "    </tr>\n",
              "  </tbody>\n",
              "</table>\n",
              "</div>"
            ],
            "text/plain": [
              "     weather play  play_encoded  weather_encoded\n",
              "0      Sunny   No             0                2\n",
              "1   Overcast  Yes             1                0\n",
              "2      Rainy  Yes             1                1\n",
              "3      Sunny  Yes             1                2\n",
              "4      Sunny  Yes             1                2\n",
              "5   Overcast  Yes             1                0\n",
              "6      Rainy   No             0                1\n",
              "7      Rainy   No             0                1\n",
              "8      Sunny  Yes             1                2\n",
              "9      Rainy  Yes             1                1\n",
              "10     Sunny   No             0                2\n",
              "11  Overcast  Yes             1                0\n",
              "12  Overcast  Yes             1                0\n",
              "13     Rainy   No             0                1"
            ]
          },
          "metadata": {
            "tags": []
          },
          "execution_count": 550
        }
      ]
    },
    {
      "metadata": {
        "id": "GgX7UyDhOwQ6",
        "colab_type": "code",
        "colab": {}
      },
      "cell_type": "code",
      "source": [
        "# Selecting Features and Labels\n",
        "\n",
        "y= df['play_encoded']\n",
        "X = df.drop(['weather','play','play_encoded'],axis=1)\n"
      ],
      "execution_count": 0,
      "outputs": []
    },
    {
      "metadata": {
        "id": "7dXyPpcqH0c2",
        "colab_type": "code",
        "colab": {
          "base_uri": "https://localhost:8080/",
          "height": 52
        },
        "outputId": "fc8f2c57-93c0-4c5c-8ba9-41c7ab23eede"
      },
      "cell_type": "code",
      "source": [
        "print(\"X shape\", X.shape)\n",
        "print(\"Label shape\", y.shape)"
      ],
      "execution_count": 552,
      "outputs": [
        {
          "output_type": "stream",
          "text": [
            "X shape (14, 1)\n",
            "Label shape (14,)\n"
          ],
          "name": "stdout"
        }
      ]
    },
    {
      "metadata": {
        "id": "2HE8Uh4OH4AZ",
        "colab_type": "code",
        "colab": {}
      },
      "cell_type": "code",
      "source": [
        "from sklearn.cross_validation import train_test_split\n",
        "x_train, x_test, y_train, y_test = train_test_split(X, y, test_size=0.30, random_state=0)"
      ],
      "execution_count": 0,
      "outputs": []
    },
    {
      "metadata": {
        "id": "pq52ioJqH6xl",
        "colab_type": "code",
        "colab": {
          "base_uri": "https://localhost:8080/",
          "height": 34
        },
        "outputId": "7e01dd40-d398-404d-eeb6-c4dac1dbf410"
      },
      "cell_type": "code",
      "source": [
        "x_train.shape"
      ],
      "execution_count": 554,
      "outputs": [
        {
          "output_type": "execute_result",
          "data": {
            "text/plain": [
              "(9, 1)"
            ]
          },
          "metadata": {
            "tags": []
          },
          "execution_count": 554
        }
      ]
    },
    {
      "metadata": {
        "id": "JRXyZcaMIAGF",
        "colab_type": "code",
        "colab": {}
      },
      "cell_type": "code",
      "source": [
        "from sklearn.naive_bayes import MultinomialNB"
      ],
      "execution_count": 0,
      "outputs": []
    },
    {
      "metadata": {
        "id": "jeV4l_KFH9ac",
        "colab_type": "code",
        "colab": {
          "base_uri": "https://localhost:8080/",
          "height": 34
        },
        "outputId": "f70ef9e2-6fe5-41f4-bdda-0fe03cc2284d"
      },
      "cell_type": "code",
      "source": [
        "x_test.shape"
      ],
      "execution_count": 556,
      "outputs": [
        {
          "output_type": "execute_result",
          "data": {
            "text/plain": [
              "(5, 1)"
            ]
          },
          "metadata": {
            "tags": []
          },
          "execution_count": 556
        }
      ]
    },
    {
      "metadata": {
        "id": "BcsJ3Lw8Yjjt",
        "colab_type": "text"
      },
      "cell_type": "markdown",
      "source": [
        "## Multinomial NB"
      ]
    },
    {
      "metadata": {
        "id": "GCD7WAzMIL_9",
        "colab_type": "code",
        "colab": {}
      },
      "cell_type": "code",
      "source": [
        "multinomial_nb=MultinomialNB()"
      ],
      "execution_count": 0,
      "outputs": []
    },
    {
      "metadata": {
        "id": "XJJK2KtMHs1i",
        "colab_type": "code",
        "colab": {
          "base_uri": "https://localhost:8080/",
          "height": 34
        },
        "outputId": "bf25a505-c6e3-4388-cb39-a68cb25fb9ce"
      },
      "cell_type": "code",
      "source": [
        "multinomial_nb.fit(x_train, y_train)"
      ],
      "execution_count": 558,
      "outputs": [
        {
          "output_type": "execute_result",
          "data": {
            "text/plain": [
              "MultinomialNB(alpha=1.0, class_prior=None, fit_prior=True)"
            ]
          },
          "metadata": {
            "tags": []
          },
          "execution_count": 558
        }
      ]
    },
    {
      "metadata": {
        "id": "KNeCicfgUKiP",
        "colab_type": "code",
        "colab": {}
      },
      "cell_type": "code",
      "source": [
        "predict_op=multinomial_nb.predict(x_test)"
      ],
      "execution_count": 0,
      "outputs": []
    },
    {
      "metadata": {
        "id": "kU_WdseOQ3Bq",
        "colab_type": "code",
        "colab": {
          "base_uri": "https://localhost:8080/",
          "height": 34
        },
        "outputId": "80f907e6-5d54-491d-a7fb-6896dc529088"
      },
      "cell_type": "code",
      "source": [
        "multinomial_nb.score(x_test,y_test)"
      ],
      "execution_count": 560,
      "outputs": [
        {
          "output_type": "execute_result",
          "data": {
            "text/plain": [
              "0.8"
            ]
          },
          "metadata": {
            "tags": []
          },
          "execution_count": 560
        }
      ]
    },
    {
      "metadata": {
        "id": "rCSBLFCzYTL-",
        "colab_type": "text"
      },
      "cell_type": "markdown",
      "source": [
        "## Confusion Matrix"
      ]
    },
    {
      "metadata": {
        "id": "OSw_BgnrX1Zx",
        "colab_type": "code",
        "colab": {}
      },
      "cell_type": "code",
      "source": [
        "from sklearn.metrics import confusion_matrix"
      ],
      "execution_count": 0,
      "outputs": []
    },
    {
      "metadata": {
        "id": "ah-if6gbX3qa",
        "colab_type": "code",
        "colab": {
          "base_uri": "https://localhost:8080/",
          "height": 52
        },
        "outputId": "f012940c-a8b6-4579-8e5a-6b8748f375d4"
      },
      "cell_type": "code",
      "source": [
        "con_matrix=confusion_matrix(y_test,predict_op)\n",
        "print(con_matrix)"
      ],
      "execution_count": 562,
      "outputs": [
        {
          "output_type": "stream",
          "text": [
            "[[0 1]\n",
            " [0 4]]\n"
          ],
          "name": "stdout"
        }
      ]
    },
    {
      "metadata": {
        "id": "mVnVhprUYXhc",
        "colab_type": "text"
      },
      "cell_type": "markdown",
      "source": [
        "## Classification matrix"
      ]
    },
    {
      "metadata": {
        "id": "hcnr5fbKX40T",
        "colab_type": "code",
        "colab": {
          "base_uri": "https://localhost:8080/",
          "height": 196
        },
        "outputId": "88e2195a-b150-40a1-a95a-e4ea4806a068"
      },
      "cell_type": "code",
      "source": [
        "class_report=mt.classification_report(y_test,predict_op)\n",
        "print(class_report)"
      ],
      "execution_count": 563,
      "outputs": [
        {
          "output_type": "stream",
          "text": [
            "             precision    recall  f1-score   support\n",
            "\n",
            "          0       0.00      0.00      0.00         1\n",
            "          1       0.80      1.00      0.89         4\n",
            "\n",
            "avg / total       0.64      0.80      0.71         5\n",
            "\n"
          ],
          "name": "stdout"
        },
        {
          "output_type": "stream",
          "text": [
            "/usr/local/lib/python3.6/dist-packages/sklearn/metrics/classification.py:1135: UndefinedMetricWarning: Precision and F-score are ill-defined and being set to 0.0 in labels with no predicted samples.\n",
            "  'precision', 'predicted', average, warn_for)\n"
          ],
          "name": "stderr"
        }
      ]
    },
    {
      "metadata": {
        "id": "mWy_h5R-aw3l",
        "colab_type": "text"
      },
      "cell_type": "markdown",
      "source": [
        ""
      ]
    },
    {
      "metadata": {
        "id": "EeYatDDEa2u0",
        "colab_type": "text"
      },
      "cell_type": "markdown",
      "source": [
        "# Question 2\n",
        "# Working on IRIS Dataset"
      ]
    },
    {
      "metadata": {
        "id": "CvL5pb0sa3Rv",
        "colab_type": "code",
        "colab": {}
      },
      "cell_type": "code",
      "source": [
        "from sklearn import datasets\n",
        "from sklearn.metrics import classification_report, confusion_matrix"
      ],
      "execution_count": 0,
      "outputs": []
    },
    {
      "metadata": {
        "id": "BOBHUaU9bKy1",
        "colab_type": "code",
        "colab": {}
      },
      "cell_type": "code",
      "source": [
        "# Loading IRIS dataset\n",
        "iris = datasets.load_iris()\n",
        "\n",
        "# Selecting Feature\n",
        "X = iris.data\n",
        "\n",
        "# Selecting Target \n",
        "y = iris.target\n"
      ],
      "execution_count": 0,
      "outputs": []
    },
    {
      "metadata": {
        "id": "HMdyOdYybNC9",
        "colab_type": "code",
        "colab": {}
      },
      "cell_type": "code",
      "source": [
        "from sklearn.cross_validation import train_test_split\n",
        "x_train, x_test, y_train, y_test = train_test_split(X, y, test_size=0.40, random_state=0)\n"
      ],
      "execution_count": 0,
      "outputs": []
    },
    {
      "metadata": {
        "id": "_K3FJhmGbeFl",
        "colab_type": "code",
        "colab": {}
      },
      "cell_type": "code",
      "source": [
        "from sklearn.naive_bayes import MultinomialNB, GaussianNB"
      ],
      "execution_count": 0,
      "outputs": []
    },
    {
      "metadata": {
        "id": "rxe02Qm1caVn",
        "colab_type": "text"
      },
      "cell_type": "markdown",
      "source": [
        "## Multinomial NB "
      ]
    },
    {
      "metadata": {
        "id": "Ix7-TdJ8bbDQ",
        "colab_type": "code",
        "colab": {}
      },
      "cell_type": "code",
      "source": [
        "multinomial_nb=MultinomialNB()"
      ],
      "execution_count": 0,
      "outputs": []
    },
    {
      "metadata": {
        "id": "O1Mlh21QbZDY",
        "colab_type": "code",
        "colab": {
          "base_uri": "https://localhost:8080/",
          "height": 34
        },
        "outputId": "05ea2af5-a329-49a5-dcb8-260be10f4942"
      },
      "cell_type": "code",
      "source": [
        "multinomial_nb.fit(x_train, y_train)"
      ],
      "execution_count": 569,
      "outputs": [
        {
          "output_type": "execute_result",
          "data": {
            "text/plain": [
              "MultinomialNB(alpha=1.0, class_prior=None, fit_prior=True)"
            ]
          },
          "metadata": {
            "tags": []
          },
          "execution_count": 569
        }
      ]
    },
    {
      "metadata": {
        "id": "Hh9rRRxtbzgh",
        "colab_type": "code",
        "colab": {}
      },
      "cell_type": "code",
      "source": [
        "predict_op=multinomial_nb.predict(x_test)"
      ],
      "execution_count": 0,
      "outputs": []
    },
    {
      "metadata": {
        "id": "HYDNlIrcb4rh",
        "colab_type": "code",
        "colab": {
          "base_uri": "https://localhost:8080/",
          "height": 34
        },
        "outputId": "487b310c-8f10-4a06-c7a1-1c72e08706c6"
      },
      "cell_type": "code",
      "source": [
        "multinomial_nb.score(x_test,y_test)"
      ],
      "execution_count": 571,
      "outputs": [
        {
          "output_type": "execute_result",
          "data": {
            "text/plain": [
              "0.8833333333333333"
            ]
          },
          "metadata": {
            "tags": []
          },
          "execution_count": 571
        }
      ]
    },
    {
      "metadata": {
        "id": "6qd-aRDSmMht",
        "colab_type": "text"
      },
      "cell_type": "markdown",
      "source": [
        "### Confusion matrix"
      ]
    },
    {
      "metadata": {
        "id": "IsGphrWjksWu",
        "colab_type": "code",
        "colab": {
          "base_uri": "https://localhost:8080/",
          "height": 70
        },
        "outputId": "e247ad46-d501-40b7-ddb9-b4959899410e"
      },
      "cell_type": "code",
      "source": [
        "confusion_matrix(y_test, predict_op)"
      ],
      "execution_count": 572,
      "outputs": [
        {
          "output_type": "execute_result",
          "data": {
            "text/plain": [
              "array([[16,  0,  0],\n",
              "       [ 0, 16,  7],\n",
              "       [ 0,  0, 21]])"
            ]
          },
          "metadata": {
            "tags": []
          },
          "execution_count": 572
        }
      ]
    },
    {
      "metadata": {
        "id": "idTEcjsqmSRE",
        "colab_type": "text"
      },
      "cell_type": "markdown",
      "source": [
        "### Classification report"
      ]
    },
    {
      "metadata": {
        "id": "aDW9V0bZk7Ik",
        "colab_type": "code",
        "colab": {
          "base_uri": "https://localhost:8080/",
          "height": 158
        },
        "outputId": "c7c86033-abb8-43ee-d327-2a43f1dd8b8c"
      },
      "cell_type": "code",
      "source": [
        "classification_report=mt.classification_report(y_test,predict_op)\n",
        "print(classification_report)"
      ],
      "execution_count": 573,
      "outputs": [
        {
          "output_type": "stream",
          "text": [
            "             precision    recall  f1-score   support\n",
            "\n",
            "          0       1.00      1.00      1.00        16\n",
            "          1       1.00      0.70      0.82        23\n",
            "          2       0.75      1.00      0.86        21\n",
            "\n",
            "avg / total       0.91      0.88      0.88        60\n",
            "\n"
          ],
          "name": "stdout"
        }
      ]
    },
    {
      "metadata": {
        "id": "FqSirGzVcegK",
        "colab_type": "text"
      },
      "cell_type": "markdown",
      "source": [
        "## Gaussian NB"
      ]
    },
    {
      "metadata": {
        "id": "2RgpDDXmcgdb",
        "colab_type": "code",
        "colab": {}
      },
      "cell_type": "code",
      "source": [
        "gaussian_nb=GaussianNB()"
      ],
      "execution_count": 0,
      "outputs": []
    },
    {
      "metadata": {
        "id": "J0k_Kb8TfI74",
        "colab_type": "code",
        "colab": {
          "base_uri": "https://localhost:8080/",
          "height": 34
        },
        "outputId": "83dec337-c46b-4566-cbaa-fbf3f65f2fe6"
      },
      "cell_type": "code",
      "source": [
        "gaussian_nb.fit(x_train, y_train)"
      ],
      "execution_count": 575,
      "outputs": [
        {
          "output_type": "execute_result",
          "data": {
            "text/plain": [
              "GaussianNB(priors=None)"
            ]
          },
          "metadata": {
            "tags": []
          },
          "execution_count": 575
        }
      ]
    },
    {
      "metadata": {
        "id": "mQ9he79jfenE",
        "colab_type": "code",
        "colab": {}
      },
      "cell_type": "code",
      "source": [
        "predict_op=gaussian_nb.predict(x_test)"
      ],
      "execution_count": 0,
      "outputs": []
    },
    {
      "metadata": {
        "id": "GfvaQBoVfhBh",
        "colab_type": "code",
        "colab": {
          "base_uri": "https://localhost:8080/",
          "height": 34
        },
        "outputId": "701826d2-d4c2-4fe2-a62a-54f8a5a0c5c5"
      },
      "cell_type": "code",
      "source": [
        "gaussian_nb.score(x_test,y_test)"
      ],
      "execution_count": 577,
      "outputs": [
        {
          "output_type": "execute_result",
          "data": {
            "text/plain": [
              "0.9333333333333333"
            ]
          },
          "metadata": {
            "tags": []
          },
          "execution_count": 577
        }
      ]
    },
    {
      "metadata": {
        "id": "_inKWLA9hVbA",
        "colab_type": "text"
      },
      "cell_type": "markdown",
      "source": [
        "### Confusion matrix"
      ]
    },
    {
      "metadata": {
        "id": "GdcSB6Jtha93",
        "colab_type": "code",
        "colab": {
          "base_uri": "https://localhost:8080/",
          "height": 70
        },
        "outputId": "acd38a2c-79d9-47d0-9157-8ccf023908b2"
      },
      "cell_type": "code",
      "source": [
        "confusion_matrix(y_test, predict_op)"
      ],
      "execution_count": 578,
      "outputs": [
        {
          "output_type": "execute_result",
          "data": {
            "text/plain": [
              "array([[16,  0,  0],\n",
              "       [ 0, 23,  0],\n",
              "       [ 0,  4, 17]])"
            ]
          },
          "metadata": {
            "tags": []
          },
          "execution_count": 578
        }
      ]
    },
    {
      "metadata": {
        "id": "KIEfHoDhiz2w",
        "colab_type": "text"
      },
      "cell_type": "markdown",
      "source": [
        "### Classification report#"
      ]
    },
    {
      "metadata": {
        "id": "u5iSRP8Hi5B8",
        "colab_type": "code",
        "colab": {
          "base_uri": "https://localhost:8080/",
          "height": 158
        },
        "outputId": "e5ed538e-38cb-4de5-bc4d-8330e8e8d336"
      },
      "cell_type": "code",
      "source": [
        "classification_report=mt.classification_report(y_test,predict_op)\n",
        "print(classification_report)"
      ],
      "execution_count": 579,
      "outputs": [
        {
          "output_type": "stream",
          "text": [
            "             precision    recall  f1-score   support\n",
            "\n",
            "          0       1.00      1.00      1.00        16\n",
            "          1       0.85      1.00      0.92        23\n",
            "          2       1.00      0.81      0.89        21\n",
            "\n",
            "avg / total       0.94      0.93      0.93        60\n",
            "\n"
          ],
          "name": "stdout"
        }
      ]
    }
  ]
}