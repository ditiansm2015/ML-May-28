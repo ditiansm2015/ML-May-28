{
  "nbformat": 4,
  "nbformat_minor": 0,
  "metadata": {
    "colab": {
      "name": "Untitled4.ipynb",
      "version": "0.3.2",
      "provenance": [],
      "collapsed_sections": []
    },
    "kernelspec": {
      "name": "python3",
      "display_name": "Python 3"
    }
  },
  "cells": [
    {
      "cell_type": "markdown",
      "metadata": {
        "id": "view-in-github",
        "colab_type": "text"
      },
      "source": [
        "[View in Colaboratory](https://colab.research.google.com/github/ditiansm2015/ML-May-28/blob/master/assignment_3.ipynb)"
      ]
    },
    {
      "metadata": {
        "id": "EzZ6nO_UR16V",
        "colab_type": "text"
      },
      "cell_type": "markdown",
      "source": [
        "SUDHANSHU MISHRA\n",
        "\n",
        "Machine Learning with Python (SUM18 ML ON1)\n",
        "\n",
        "ASSIGNMENT_3"
      ]
    },
    {
      "metadata": {
        "id": "Y0Dd3cReR4Lw",
        "colab_type": "code",
        "colab": {
          "base_uri": "https://localhost:8080/",
          "height": 101
        },
        "outputId": "b61e6980-828f-422e-d45e-43cde4d5d61d"
      },
      "cell_type": "code",
      "source": [
        "#Question 1\n",
        "#Given P(A),P(B),P(A|B) find P(B|A)\n",
        "\n",
        "def findPba(pa,pb,pab):\n",
        "  pba=(pab*pb)/pa\n",
        "  print(\"P(A)=\",pa)\n",
        "  print(\"P(B)=\",pb)\n",
        "  print(\"P(A|B)=\",pab)\n",
        "  print(\"\\nP(B|A)=\",pba)\n",
        "  \n",
        "findPba(11/36,6/36,2/36)  "
      ],
      "execution_count": 13,
      "outputs": [
        {
          "output_type": "stream",
          "text": [
            "P(A)= 0.3055555555555556\n",
            "P(B)= 0.16666666666666666\n",
            "P(A|B)= 0.05555555555555555\n",
            "\n",
            "P(B|A)= 0.0303030303030303\n"
          ],
          "name": "stdout"
        }
      ]
    },
    {
      "metadata": {
        "id": "2sK9SchFTTsC",
        "colab_type": "code",
        "colab": {}
      },
      "cell_type": "code",
      "source": [
        "#Question 2\n",
        "#Bag I contains 4 white and 6 black balls \n",
        "#while another Bag II contains 4 white and \n",
        "#3 black balls. One ball is drawn at random\n",
        "#from one of the bags and it is found to be\n",
        "#black. Find the probability that it was drawn\n",
        "#from Bag I\n",
        "\n",
        "#P(E1)= probability of selecting bag 1 = 1/2\n",
        "#P(E2)= probability of selecting bag 2 = 1/2\n",
        "#P(E1|A)= probability of selecting bag 1 given black ball given = ?\n",
        "#P(A|E1)= probability of getting black ball given bag 1 is selected = 3/5\n",
        "#P(A|E2)= probability of getting black ball given bag 2 is selected = 3/7\n",
        "\n",
        "#Solution\n",
        "#P(E1|A)=(P(E1)*P(A|E1))/((P(E1)*P(A|E1))+(P(E2)*P(A|E2)))\n",
        "\n",
        "#Answer = 0.583"
      ],
      "execution_count": 0,
      "outputs": []
    },
    {
      "metadata": {
        "id": "ug8i1AkkZBgH",
        "colab_type": "code",
        "colab": {}
      },
      "cell_type": "code",
      "source": [
        "#Question 3\n",
        "#A man is known to speak truth 2 out of 3 times. \n",
        "#He throws a die and reports that number obtained \n",
        "#is a four. Find the probability that the number \n",
        "#obtained is actually a four.\n",
        "\n",
        "#P(E1)= probabilty that 4 actually occured = 1/6\n",
        "#P(E2)= probability that 4 did not occur = 5/6\n",
        "#P(E1|A)= probability that 4 occured given the person reports 4 occured(i.e person speaks truth) = ?\n",
        "#P(A|E1)= probability that he reports 4 occured given 4 occured(i.e person is speaking truth) = 2/3\n",
        "#P(A|E2)= probability that he reports 4 occured given 4 did not occur(i.e person is not speaking truth) = 1/3\n",
        "\n",
        "#Solution\n",
        "#P(E1|A)=(P(E1)*P(A|E1))/((P(E1)*P(A|E1))+(P(E2)*P(A|E2)))\n",
        "\n",
        "#Answer = 0.285"
      ],
      "execution_count": 0,
      "outputs": []
    }
  ]
}